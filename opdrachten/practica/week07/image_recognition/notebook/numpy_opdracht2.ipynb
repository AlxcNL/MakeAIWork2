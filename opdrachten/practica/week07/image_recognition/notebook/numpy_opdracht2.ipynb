{
 "cells": [
  {
   "cell_type": "markdown",
   "id": "818a1af7-9708-4bae-92fe-fa36b678d2be",
   "metadata": {},
   "source": [
    "<a href=\"https://it-omscholing.nl/locaties/hogeschool-rotterdam/\">\n",
    "<div>\n",
    "<a><img src='pics/banner.PNG'/></a>\n",
    "</div>\n",
    "<div>\n",
    "<a href=''><img src='pics/miw.PNG'/></a>\n",
    "<em>Author: Jeroen Boogaard</em>\n",
    "</div>\n",
    "</a>"
   ]
  },
  {
   "cell_type": "markdown",
   "id": "a9ff9227-1da2-489e-a4b4-d661d44ce68f",
   "metadata": {},
   "source": [
    "<h1>Practicum Computer Vision</h1>"
   ]
  },
  {
   "cell_type": "markdown",
   "id": "7d395107",
   "metadata": {},
   "source": [
    "<h2>Imports<h2>"
   ]
  },
  {
   "cell_type": "code",
   "execution_count": 2,
   "id": "84d02a33",
   "metadata": {},
   "outputs": [],
   "source": [
    "from PIL import Image\n",
    "import io\n",
    "import matplotlib.pyplot as plt\n",
    "import matplotlib.image as mpimg\n",
    "import numpy as np\n",
    "import os\n",
    "from sklearn.model_selection import train_test_split\n",
    "import random\n",
    "import requests\n",
    "import scipy as sp\n",
    "import tensorflow as tf\n",
    "# import tensorflow.keras as keras\n",
    "keras = tf.keras\n",
    "import zipfile"
   ]
  },
  {
   "cell_type": "markdown",
   "id": "72042f70-16c5-4a1a-a753-fc468bbe1a6a",
   "metadata": {},
   "source": [
    "**Gebruik een <i>environment variable</i> voor het instellen van het logleven van TensorFlow**"
   ]
  },
  {
   "cell_type": "code",
   "execution_count": 3,
   "id": "86e675b9-244c-45c8-9c91-79146b304a02",
   "metadata": {},
   "outputs": [],
   "source": [
    "os.environ['TF_CPP_MIN_LEVEL'] = '2'"
   ]
  },
  {
   "cell_type": "markdown",
   "id": "51aae3d0-f644-4552-870c-029b41f24559",
   "metadata": {},
   "source": [
    "<h2>Data Collection</h2>"
   ]
  },
  {
   "cell_type": "markdown",
   "id": "170099a3-4baf-4d2b-9ee2-ba934e368432",
   "metadata": {},
   "source": [
    "<h3>Data downloaden</h3>"
   ]
  },
  {
   "cell_type": "code",
   "execution_count": 4,
   "id": "57eb7d80-bfc1-4774-a635-fc28b2742aa0",
   "metadata": {},
   "outputs": [],
   "source": [
    "dataUrl = requests.get(\"http://madm.dfki.de/files/sentinel/EuroSAT.zip\")\n",
    "dataFile = zipfile.ZipFile(io.BytesIO(dataUrl.content))"
   ]
  },
  {
   "cell_type": "markdown",
   "id": "c85389b2-d14d-43b7-bbf6-5a95f7b1f805",
   "metadata": {},
   "source": [
    "**Kopieer de directory 2750 uit je de directory Downloads in pics.<br>\n",
    "<strong>Voeg het pad naar de directory 2750 toe aan .gitignore</strong>**"
   ]
  },
  {
   "cell_type": "code",
   "execution_count": null,
   "id": "c652271d-7f13-493e-a14e-d70a21e2de39",
   "metadata": {},
   "outputs": [],
   "source": [
    "riverDirectory = 'pics/2750/River'\n",
    "edgeFiles = list()\n",
    " \n",
    "for filename in os.listdir(riverDirectory):\n",
    "    imgFile = os.path.join(riverDirectory, filename)\n",
    "    edgeFiles.append(imgFile)"
   ]
  },
  {
   "cell_type": "markdown",
   "id": "90d58406-d3f1-45f4-aac9-f2dfddf6e7be",
   "metadata": {},
   "source": [
    "<h3>Exercise 1</h3>\n",
    "<p>\n",
    "    Voeg de directory Highway toe aan de <u>list</u> edgeFiles zodat ook de Highway images worden meegenomen. \n",
    "</p>"
   ]
  },
  {
   "cell_type": "code",
   "execution_count": null,
   "id": "a6514c8e",
   "metadata": {},
   "outputs": [],
   "source": [
    "highwayDirectory = 'pics/2750/Highway'\n",
    "\n",
    "for filename in os.listdir(highwayDirectory):\n",
    "    imgFile = os.path.join(highwayDirectory, filename)\n",
    "    edgeFiles.append(imgFile)\n",
    "    \n",
    "# print(edgeFiles)"
   ]
  },
  {
   "cell_type": "markdown",
   "id": "c878858c-a5c8-4c52-b093-13b46ae78b7d",
   "metadata": {},
   "source": [
    "<h3>Data filteren</h3>"
   ]
  },
  {
   "cell_type": "markdown",
   "id": "f10e968e-da93-46db-9b65-ab4e4e54670c",
   "metadata": {},
   "source": [
    "**Gebruik een <i>list comprehension</i> voor het filteren van data**"
   ]
  },
  {
   "cell_type": "code",
   "execution_count": null,
   "id": "984a8cee-ab24-4880-af6c-168f7de17a9c",
   "metadata": {},
   "outputs": [],
   "source": [
    "edgeFiles = [img for img in edgeFiles if \".jpg\" in img]\n",
    "print(type(edgeFiles))\n",
    "print(edgeFiles[0])"
   ]
  },
  {
   "cell_type": "markdown",
   "id": "ddfc7256-6b34-42c4-a97b-3f151a8ed0fa",
   "metadata": {},
   "source": [
    "<h3>Data inlezen</h3>"
   ]
  },
  {
   "cell_type": "code",
   "execution_count": null,
   "id": "eef4608d-3ea2-4e55-9b1f-d0d9906447b4",
   "metadata": {},
   "outputs": [],
   "source": [
    "imageObjects = np.zeros([len(edgeFiles), 64, 64, 3])\n",
    "\n",
    "i = 0\n",
    "\n",
    "for pic in edgeFiles:\n",
    "  imageObjects[i] = np.asarray(Image.open(pic)).astype('uint8')/255\n",
    "  i += 1\n",
    "    \n",
    "# print(imageObjects[0])    "
   ]
  },
  {
   "cell_type": "markdown",
   "id": "abc16b74-8f84-4256-9012-1e05669f1f54",
   "metadata": {},
   "source": [
    "**Gebruik de bestandsnamen voor het verkrijgen van de labels**"
   ]
  },
  {
   "cell_type": "code",
   "execution_count": null,
   "id": "6c6fdb90-bf3a-4569-a475-2e94b0c5bdd8",
   "metadata": {},
   "outputs": [],
   "source": [
    "imageLabels = np.empty(len(edgeFiles), dtype = 'S20')\n",
    "\n",
    "i = 0\n",
    "\n",
    "for label in edgeFiles:\n",
    "    edgeFiles[i] = label.replace(\"\\\\\", \"/\").split('/')[2]\n",
    "    i += 1\n",
    "    \n",
    "\n",
    "labelNames, labelNumbers = np.unique(edgeFiles, return_inverse=True)\n",
    "labelDict = dict(zip(np.unique(labelNumbers), labelNames))\n",
    "# print(labelNames)\n",
    "# print(labelNumbers)\n",
    "\n",
    "np.array(np.unique(labelNumbers, return_counts=True)).T"
   ]
  },
  {
   "cell_type": "markdown",
   "id": "11669120-c3b7-4d62-8e61-e3858002d973",
   "metadata": {},
   "source": [
    "<h3>Data inspecteren</h3>"
   ]
  },
  {
   "cell_type": "code",
   "execution_count": null,
   "id": "c5e3ce52-c40f-4225-8925-4f56df9b2cb5",
   "metadata": {},
   "outputs": [],
   "source": [
    "def inspectData():\n",
    "    \n",
    "    plt.figure(figsize=(10,10))\n",
    "\n",
    "    for i in range(16):\n",
    "        plt.subplot(4, 4, i+1)\n",
    "        plt.xticks([])\n",
    "        plt.yticks([])\n",
    "        plt.grid(False)\n",
    "        randomImage = random.randint(1, 2500)\n",
    "        plt.imshow(imageObjects[randomImage])\n",
    "        plt.xlabel(labelNames[labelNumbers[randomImage]]) \n",
    "\n",
    "    plt.show()   "
   ]
  },
  {
   "cell_type": "code",
   "execution_count": null,
   "id": "767457b4-f8f2-4424-90cd-d538f67ef98d",
   "metadata": {},
   "outputs": [],
   "source": [
    "inspectData() "
   ]
  },
  {
   "cell_type": "markdown",
   "id": "cc4f808f-8cfe-4777-b72e-7ca405a19687",
   "metadata": {},
   "source": [
    "<h3>Exercise 2</h3>\n",
    "<p>\n",
    "Pas de functie <u>inspectData()</u> aan zodat deze <u>random</u> images uit de dataset selecteert.\n",
    "<strong>Let erop dat bij iedere image het corresponderende label getoond wordt</strong>\n",
    "</p>"
   ]
  },
  {
   "cell_type": "markdown",
   "id": "995f5421-ee18-4b53-86d4-dfb68c672ab9",
   "metadata": {},
   "source": [
    "<h3>Data voorbewerken</h3>"
   ]
  },
  {
   "cell_type": "code",
   "execution_count": null,
   "id": "79a9f9a8-dfc5-4f73-8965-ee480cc1d639",
   "metadata": {},
   "outputs": [],
   "source": [
    "def RGB_convolve(inputImg, imgKernel):\n",
    "    outputImg = np.empty_like(inputImg)\n",
    "\n",
    "    for dim in range(inputImg.shape[-1]):  # loop over rgb channels\n",
    "        outputImg[:, :, dim] = sp.signal.convolve2d(imgData[:, :, dim], imgKernel, mode=\"same\", boundary=\"symm\")\n",
    "\n",
    "    return outputImg"
   ]
  },
  {
   "cell_type": "code",
   "execution_count": null,
   "id": "3fe80cf5-e9eb-4c52-9214-b484f6f9af26",
   "metadata": {},
   "outputs": [],
   "source": [
    "def RGB2RGBA(arr, fill_value=1):\n",
    "    \"\"\"Add an alpha channel to an RGB array\"\"\"\n",
    "    if arr.shape[-1] >= 4:\n",
    "        return arr\n",
    "    arr2 = np.full(shape=(*arr.shape[:-1], 4),\n",
    "                   fill_value=fill_value,\n",
    "                   dtype=arr.dtype)\n",
    "    arr2[:, :, :-1] = arr/255.\n",
    "\n",
    "    return arr2"
   ]
  },
  {
   "cell_type": "code",
   "execution_count": null,
   "id": "ed1bca22-172c-470b-87fa-19b0c2dc2cae",
   "metadata": {},
   "outputs": [],
   "source": [
    "def init_plot():\n",
    "    return (imL, imR)"
   ]
  },
  {
   "cell_type": "code",
   "execution_count": null,
   "id": "190cd08f-9da6-4ad8-ad82-c593a12d9cbe",
   "metadata": {},
   "outputs": [],
   "source": [
    "plt.style.use('dark_background') \n",
    "plt.rcParams[\"font.size\"] = 12\n",
    "plt.rcParams[\"figure.figsize\"] = (12, 7)"
   ]
  },
  {
   "cell_type": "code",
   "execution_count": null,
   "id": "77fef7c5-ba86-4dc1-b10c-f9c3880e10aa",
   "metadata": {},
   "outputs": [],
   "source": [
    "imgFile = 'pics/2750/Highway/Highway_12.jpg'\n",
    "# imgFile = \"~/Downloads/2750/Highway/Highway_12.jpg\"\n",
    "T = 10  # seconds\n",
    "fps = 30\n",
    "fTotal = T*fps  # total number of frames\n",
    "imgKernels = {\n",
    "                \"Sharpen 3x3\": np.array([[0, -1, 0], [-1, 5, -1], [0, -1, 0]])\n",
    "             }"
   ]
  },
  {
   "cell_type": "markdown",
   "id": "23b45e1e-de20-452c-9bd1-708330762eeb",
   "metadata": {},
   "source": [
    "**Selecteer de Image Kernel voor Convolution**"
   ]
  },
  {
   "cell_type": "code",
   "execution_count": null,
   "id": "d4ac2508-de87-4ca3-ae71-86ad2eb89615",
   "metadata": {},
   "outputs": [],
   "source": [
    "kernelName = \"Sharpen 3x3\"\n",
    "kernel = imgKernels[kernelName]"
   ]
  },
  {
   "cell_type": "code",
   "execution_count": null,
   "id": "cc2303bf-e4ff-495e-8aef-fdacde35900d",
   "metadata": {},
   "outputs": [],
   "source": [
    "imgData = RGB2RGBA(plt.imread(imgFile).astype(float))\n",
    "imgFiltered = RGB_convolve(imgData, kernel)\n",
    "imgFiltered[:, :, -1] = 1\n",
    "imgDisplay = np.copy(imgData)"
   ]
  },
  {
   "cell_type": "code",
   "execution_count": null,
   "id": "43ecc42f-3f93-4519-b4c7-2860c1d4ea86",
   "metadata": {},
   "outputs": [],
   "source": [
    "fig, (axL, axR) = plt.subplots(ncols=2, constrained_layout=True)\n",
    "fig.suptitle(\"Sharpen 3x3\")\n",
    "imL = axL.imshow(np.clip(imgData, 0, 1) , interpolation=\"none\")  # remove interpolation=...\n",
    "imR = axR.imshow(np.clip(imgFiltered, 0, 1), interpolation=\"none\")  # remove interpolation=...\n",
    "axR.set_xlim(axL.get_xlim()), axR.set_ylim(axL.get_ylim())\n",
    "axL.axis('off'), axR.axis('off')"
   ]
  },
  {
   "cell_type": "markdown",
   "id": "34a120dc-bfc9-4668-b456-4d021738e77b",
   "metadata": {},
   "source": [
    "<h3>Exercise 3</h3>\n",
    "<p>\n",
    "    Voeg een 3x3 imageKernel <u>horizontalEdgeDetection</u> toe aan <u>imgKernels</u> en voer daarmee een aantal Convoluties uit.<br> \n",
    "    Vergelijk de resultaten met die van de Convoluties met de Sharpen 3x3.<br>\n",
    "    <strong>Tips</strong>: \n",
    "    <ul>\n",
    "        <li>In de [sheets van de les Computer Vision](https://github.com/AlxcNL/MakeAIWork2/tree/main/lessen/week07/image_processing) kun je een voorbeeld van een verticale Edge Detection Filter vinden.</li>\n",
    "        <li>Schrijf een functie voor <i>batchverwerking</i> op Images.</li>\n",
    "    </ul>\n",
    "</p>"
   ]
  },
  {
   "cell_type": "code",
   "execution_count": null,
   "id": "5e18c38a",
   "metadata": {},
   "outputs": [],
   "source": [
    "                               # Wanneer we arrays over 3 regels verdelen, \n",
    "                         # zien we duidelijk een horizontaal patroon verschijnen\n",
    "\n",
    "imgKernelsHorizontalEdge = {\n",
    "                \"Horizontal 3x3\": np.array([[-1, -1, -1], \n",
    "                                            [0, 0, 0], \n",
    "                                            [1, 1, 1]])\n",
    "                           }\n",
    "\n",
    "kernelName = \"Horizontal 3x3\"\n",
    "kernel = imgKernelsHorizontalEdge[kernelName]\n",
    "\n",
    "imgData = RGB2RGBA(plt.imread(imgFile).astype(float))\n",
    "imgFiltered = RGB_convolve(imgData, kernel)\n",
    "imgFiltered[:, :, -1] = 1\n",
    "imgDisplay = np.copy(imgData)\n",
    "\n",
    "fig, (axL, axR) = plt.subplots(ncols=2, constrained_layout=True)\n",
    "fig.suptitle(\"Horizontal Edge Detection 3x3\")\n",
    "imL = axL.imshow(np.clip(imgData, 0, 1) , interpolation=\"none\") \n",
    "imR = axR.imshow(np.clip(imgFiltered, 0, 1), interpolation=\"none\") \n",
    "axR.set_xlim(axL.get_xlim()), axR.set_ylim(axL.get_ylim())\n",
    "axL.axis('off'), axR.axis('off')\n",
    "\n",
    "# Probeer het ook eens om te zetten naar grayscale voor meer gedefinieerde lijnen/edges'"
   ]
  },
  {
   "cell_type": "code",
   "execution_count": null,
   "id": "32e97664",
   "metadata": {
    "tags": [
     "parameters"
    ]
   },
   "outputs": [],
   "source": [
    "                            # Wanneer we arrays over 3 regels verdelen, \n",
    "                            # zien we een verticaal patroon verschijnen\n",
    "\n",
    "imgKernelsVerticalEdge = {\n",
    "                \"Vertical 3x3\": np.array([[-2, 0, 2], \n",
    "                                          [-2, 0, 2], \n",
    "                                          [-2, 0, 2]])\n",
    "                         }\n",
    "\n",
    "kernelName = \"Vertical 3x3\"\n",
    "kernel = imgKernelsVerticalEdge[kernelName]\n",
    "\n",
    "imgData = RGB2RGBA(plt.imread(imgFile).astype(float))\n",
    "imgFiltered = RGB_convolve(imgData, kernel)\n",
    "imgFiltered[:, :, -1] = 1\n",
    "imgDisplay = np.copy(imgData)\n",
    "\n",
    "fig, (axL, axR) = plt.subplots(ncols=2, constrained_layout=True)\n",
    "fig.suptitle(\"Vertical Edge Detection 3x3\")\n",
    "imL = axL.imshow(np.clip(imgData, 0, 1) , interpolation=\"none\") \n",
    "imR = axR.imshow(np.clip(imgFiltered, 0, 1), interpolation=\"none\") \n",
    "axR.set_xlim(axL.get_xlim()), axR.set_ylim(axL.get_ylim())\n",
    "axL.axis('off'), axR.axis('off')"
   ]
  }
 ],
 "metadata": {
  "kernelspec": {
   "display_name": "Python 3.10.7 ('env': venv)",
   "language": "python",
   "name": "python3"
  },
  "language_info": {
   "codemirror_mode": {
    "name": "ipython",
    "version": 3
   },
   "file_extension": ".py",
   "mimetype": "text/x-python",
   "name": "python",
   "nbconvert_exporter": "python",
   "pygments_lexer": "ipython3",
   "version": "3.10.7"
  },
  "vscode": {
   "interpreter": {
    "hash": "3806e804db5aa4a4c842d8541c0221916f65eb25aef94211593b7aec60c2bed4"
   }
  }
 },
 "nbformat": 4,
 "nbformat_minor": 5
}
