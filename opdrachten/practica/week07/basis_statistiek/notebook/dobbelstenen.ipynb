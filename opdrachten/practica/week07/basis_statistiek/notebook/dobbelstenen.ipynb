{
 "cells": [
  {
   "cell_type": "markdown",
   "id": "818a1af7-9708-4bae-92fe-fa36b678d2be",
   "metadata": {},
   "source": [
    "<a href=\"https://it-omscholing.nl/locaties/hogeschool-rotterdam/\">\n",
    "<div>\n",
    "<a><img src='pics/banner.PNG'/></a>\n",
    "</div>\n",
    "<div>\n",
    "<a href=''><img src='pics/miw.PNG'/></a>\n",
    "<em>Author: Jeroen Boogaard</em>\n",
    "</div>\n",
    "</a>"
   ]
  },
  {
   "cell_type": "markdown",
   "id": "a9ff9227-1da2-489e-a4b4-d661d44ce68f",
   "metadata": {},
   "source": [
    "<h1>Practicum Basis Statistiek</h1>"
   ]
  },
  {
   "cell_type": "markdown",
   "id": "0437b096-4322-4054-a14f-b26c9a12999d",
   "metadata": {},
   "source": [
    "<h2>Dobbelstenen</h2>"
   ]
  },
  {
   "cell_type": "markdown",
   "id": "67fc0ddf-6732-496e-a406-77e1776d7359",
   "metadata": {},
   "source": [
    "<div>\n",
    "<img src='pics/dobbelsteen.jpg'/>    \n",
    "</div>    "
   ]
  },
  {
   "cell_type": "code",
   "execution_count": 80,
   "id": "84d02a33",
   "metadata": {},
   "outputs": [],
   "source": [
    "from dobbelsteen import Dobbelsteen\n",
    "from matplotlib_venn import venn2\n",
    "import matplotlib.pyplot as plot\n",
    "import numpy as np\n",
    "import pandas as pd\n",
    "import pylab as plt\n",
    "import random\n",
    "import seaborn as sns\n",
    "import statistics as st"
   ]
  },
  {
   "cell_type": "markdown",
   "id": "51aae3d0-f644-4552-870c-029b41f24559",
   "metadata": {},
   "source": [
    "<h2>Dobbelsteen</h2>"
   ]
  },
  {
   "cell_type": "code",
   "execution_count": 81,
   "id": "18c0e9c1-d82a-46ee-b6fd-8af1b9f6c81f",
   "metadata": {},
   "outputs": [
    {
     "name": "stdout",
     "output_type": "stream",
     "text": [
      "┌─────────┐\n",
      "│  ●   ●  │\n",
      "│    ●    │\n",
      "│  ●   ●  │\n",
      "└─────────┘\n"
     ]
    }
   ],
   "source": [
    "d = Dobbelsteen()\n",
    "print(d.show())"
   ]
  },
  {
   "cell_type": "markdown",
   "id": "170099a3-4baf-4d2b-9ee2-ba934e368432",
   "metadata": {},
   "source": [
    "<h3>Uitkomstruimte</h3>"
   ]
  },
  {
   "cell_type": "code",
   "execution_count": 82,
   "id": "efdbb9fe-07af-460f-81bb-868d15c2c64e",
   "metadata": {},
   "outputs": [
    {
     "name": "stdout",
     "output_type": "stream",
     "text": [
      "{1, 2, 3, 4, 5, 6}\n"
     ]
    }
   ],
   "source": [
    "print(d.values)  "
   ]
  },
  {
   "cell_type": "markdown",
   "id": "8180133d-56ca-4366-8c0f-bfc87b73cbc5",
   "metadata": {},
   "source": [
    "<h3>Kansmassa-functie</h3>"
   ]
  },
  {
   "cell_type": "code",
   "execution_count": 83,
   "id": "c652271d-7f13-493e-a14e-d70a21e2de39",
   "metadata": {},
   "outputs": [
    {
     "name": "stdout",
     "output_type": "stream",
     "text": [
      "p(1) = 1/6\n",
      "p(2) = 1/6\n",
      "p(3) = 1/6\n",
      "p(4) = 1/6\n",
      "p(5) = 1/6\n",
      "p(6) = 1/6\n"
     ]
    }
   ],
   "source": [
    "p = \"1/6\"\n",
    "prob = {element:p for element in d.getList()}\n",
    "\n",
    "for i in d.getList():\n",
    "    print( f\"p({i}) = {prob.get(i)}\" )"
   ]
  },
  {
   "cell_type": "markdown",
   "id": "80c83e13-30fe-40e2-b7a6-d58e9dfebdd1",
   "metadata": {},
   "source": [
    "<h2>Twee dobbelstenen</h2>"
   ]
  },
  {
   "cell_type": "code",
   "execution_count": 84,
   "id": "03ff353d-e88e-416e-bd64-5ab2b47c8e84",
   "metadata": {},
   "outputs": [
    {
     "name": "stdout",
     "output_type": "stream",
     "text": [
      "┌─────────┐\n",
      "│  ●   ●  │\n",
      "│         │\n",
      "│  ●   ●  │\n",
      "└─────────┘\n",
      "┌─────────┐\n",
      "│  ●      │\n",
      "│    ●    │\n",
      "│      ●  │\n",
      "└─────────┘\n"
     ]
    }
   ],
   "source": [
    "d0 = Dobbelsteen()\n",
    "d1 = Dobbelsteen()\n",
    "print( f\"{d0.show()}\\n{d1.show()}\" )"
   ]
  },
  {
   "cell_type": "markdown",
   "id": "efa076ad-8f22-4db5-a835-c42599369263",
   "metadata": {},
   "source": [
    "<h3>Uitkomstruimte</h3>"
   ]
  },
  {
   "cell_type": "code",
   "execution_count": 85,
   "id": "0ee9d6ad-5b3a-418b-bd41-84ff8d7a50a0",
   "metadata": {},
   "outputs": [
    {
     "data": {
      "image/png": "[encoded data removed]",
      "text/plain": [
       "<Figure size 640x480 with 1 Axes>"
      ]
     },
     "metadata": {},
     "output_type": "display_data"
    }
   ],
   "source": [
    "v = venn2(subsets=(1,1,0,1,0))\n",
    "uitkomsten = \"1 2 3 4 5 6\"\n",
    "v.get_label_by_id('100').set_text(uitkomsten)\n",
    "v.get_label_by_id('010').set_text(uitkomsten)\n",
    "plt.title(\"Twee dobbelstenen\")\n",
    "plt.show()"
   ]
  },
  {
   "cell_type": "markdown",
   "id": "cd3605f8-a3ae-4c51-89f1-9121efb85f40",
   "metadata": {},
   "source": [
    "<h3>Exercise 1</h3>"
   ]
  },
  {
   "cell_type": "markdown",
   "id": "4ad197b3-806e-4fdf-8403-cc63a2fc49b6",
   "metadata": {},
   "source": [
    "<h4>Gegeven</h4>\n",
    "<p>Dobbelstenen d0 en d1</p>"
   ]
  },
  {
   "cell_type": "markdown",
   "id": "99703aeb-ae1d-4662-9ff0-c77bb458dfcf",
   "metadata": {},
   "source": [
    "<h4>Gevraagd</h4>\n",
    "<p>\n",
    "    Maak een <u>set</u> van de <u>gecombineerde uitkomstruimte</u> <i>dice</i> die ontstaat door dobbelstenen d0 en d1 tegelijkertijd te werpen\n",
    "</p>"
   ]
  },
  {
   "cell_type": "markdown",
   "id": "cc81594b-54a3-4c6f-82df-03fed6ad4b62",
   "metadata": {},
   "source": [
    "<h4>Oplossing</h4>"
   ]
  },
  {
   "cell_type": "code",
   "execution_count": 86,
   "id": "7d36cbcd-ff5a-4b23-a6d6-d37d736ab4df",
   "metadata": {
    "tags": []
   },
   "outputs": [],
   "source": [
    "# Oplossing\n",
    "dice = {\n",
    "    (1, 1), (1, 2), (1, 3), (1, 4), (1, 5), (1, 6), \n",
    "    (2, 1), (2, 2), (2, 3), (2, 4), (2, 5), (2, 6), \n",
    "    (3, 1), (3, 2), (3, 3), (3, 4), (3, 5), (3, 6), \n",
    "    (4, 1), (4, 2), (4, 3), (4, 4), (4, 5), (4, 6), \n",
    "    (5, 1), (5, 2), (5, 3), (5, 4), (5, 5), (5, 6), \n",
    "    (6, 1), (6, 2), (6, 3), (6, 4), (6, 5), (6, 6)\n",
    "    }"
   ]
  },
  {
   "cell_type": "markdown",
   "id": "2e6623ca-8e7c-4168-acc8-91a91ae23297",
   "metadata": {},
   "source": [
    "<h3>Exercise 2</h3>"
   ]
  },
  {
   "cell_type": "markdown",
   "id": "0d6f96b6-34d0-400a-8cf3-b62fbf16cb64",
   "metadata": {},
   "source": [
    "<h4>Gegeven</h4>\n",
    "<p>Dobbelstenen <i>d0</i> en <i>d1</i> en hun gecombineerde uitkomstruimte <i>dice</i></p>"
   ]
  },
  {
   "cell_type": "markdown",
   "id": "9f245fb3-2a56-44c5-b883-76cef863aba0",
   "metadata": {},
   "source": [
    "<h3>Gevraagd</h3>\n",
    "<p>\n",
    "    Geef de <u>kansmassa-functie</u> van de som van het aantal ogen van <i>d0</i> en <i>d1</i><br>\n",
    "    <strong>TIP</strong>: Maak eerst een dictionary met daarin per alle uitkomsten\n",
    "</p>"
   ]
  },
  {
   "cell_type": "markdown",
   "id": "7810f233-a09a-4636-9b17-15fa90aad0d2",
   "metadata": {},
   "source": [
    "<h4>Oplossing</h4>"
   ]
  },
  {
   "cell_type": "code",
   "execution_count": 87,
   "id": "b7c6945d-683b-4049-ab45-973d13fea8ba",
   "metadata": {},
   "outputs": [
    {
     "name": "stdout",
     "output_type": "stream",
     "text": [
      "The results dictionary for 2 dice:\n",
      " {2: 1, 3: 2, 4: 3, 5: 4, 6: 5, 7: 6, 8: 5, 9: 4, 10: 3, 11: 2, 12: 1}\n",
      "\n",
      "The probability mass function for 2 dice is:\n",
      " {2: 0.028, 3: 0.056, 4: 0.083, 5: 0.111, 6: 0.139, 7: 0.167, 8: 0.139, 9: 0.111, 10: 0.083, 11: 0.056, 12: 0.028} \n",
      "\n"
     ]
    }
   ],
   "source": [
    "# Oplossing\n",
    "\n",
    "# dictResults = {\n",
    "#     '2': [(1,1)], \n",
    "#     '3': [(1,2), (2,1)], \n",
    "#     '4': [(2,2), (1,3), (3,1)],\n",
    "#     '5': [(1,4), (4,1), (2,3), (3,2)],\n",
    "#     '6': [(1,5), (5,1), (2,4), (4,2), (3,3)],\n",
    "#     '7': [(1,6), (6,1), (2,5), (5,2), (3,4), (4,3)],\n",
    "#     '8': [(2,6), (6,2), (3,5), (5,3), (4,4)],\n",
    "#     '9': [(3,6), (6,3), (4,5), (5,4)],\n",
    "#     '10':[(4,6), (6,4), (5,5)],\n",
    "#     '11':[(5,6), (6,5)],\n",
    "#     '12':[(6,6)],        \n",
    "#     }\n",
    "\n",
    "# dictResultsShort = {2:1, 3:2, 4:3, 5:4, 6:5, 7:6, 8:5, 9:4, 10:3, 11:2, 12:1}\n",
    "\n",
    "result = 0\n",
    "values = []\n",
    "finDict = {}\n",
    "d0_values = (1, 2, 3, 4, 5, 6)\n",
    "d1_values = (1, 2, 3, 4, 5, 6)\n",
    "prob = 1/36\n",
    "dec = 3\n",
    "\n",
    "for x in d0_values:\n",
    "    for y in d1_values:\n",
    "        result = x + y\n",
    "        values.append(result)\n",
    "        diceDict = {v:values.count(v) for v in values}\n",
    "\n",
    "print(\"The results dictionary for 2 dice:\\n\", diceDict)   \n",
    "        \n",
    "for key in diceDict:\n",
    "    diceDict[key] *= prob\n",
    "    finDict[key] = round(diceDict[key], dec)\n",
    "            \n",
    "print(\"\\nThe probability mass function for 2 dice is:\\n\", finDict, \"\\n\")   \n",
    "\n",
    "# for item in finDict:\n",
    "#     print(\"Key : {} , Value : {}\".format(item, finDict[item]))\n",
    "\n"
   ]
  },
  {
   "cell_type": "markdown",
   "id": "c878858c-a5c8-4c52-b093-13b46ae78b7d",
   "metadata": {},
   "source": [
    "<h3>Metrics</h3>"
   ]
  },
  {
   "cell_type": "markdown",
   "id": "dce2fe5f-9c9d-49e8-a03b-28d0eedc368f",
   "metadata": {},
   "source": [
    "**Gebruik een numpy array voor het bepalen van centrum-maten**"
   ]
  },
  {
   "cell_type": "code",
   "execution_count": 88,
   "id": "c2a3b751",
   "metadata": {},
   "outputs": [
    {
     "name": "stdout",
     "output_type": "stream",
     "text": [
      "[[ 2.          0.02777778]\n",
      " [ 3.          0.05555556]\n",
      " [ 4.          0.08333333]\n",
      " [ 5.          0.11111111]\n",
      " [ 6.          0.13888889]\n",
      " [ 7.          0.16666667]\n",
      " [ 8.          0.13888889]\n",
      " [ 9.          0.11111111]\n",
      " [10.          0.08333333]\n",
      " [11.          0.05555556]\n",
      " [12.          0.02777778]]\n"
     ]
    },
    {
     "data": {
      "text/plain": [
       "{1, 2, 3, 4, 5, 6}"
      ]
     },
     "execution_count": 88,
     "metadata": {},
     "output_type": "execute_result"
    }
   ],
   "source": [
    "result = diceDict.items()\n",
    "\n",
    "data = list(result)\n",
    "\n",
    "numpyArray = np.array(data)\n",
    "\n",
    "print(numpyArray)\n",
    "\n",
    "d.values\n",
    "\n",
    "# https://www.w3schools.com/python/matplotlib_histograms.asp"
   ]
  },
  {
   "cell_type": "markdown",
   "id": "e82be685-7f00-4b64-8b4a-e47c9b584e0b",
   "metadata": {},
   "source": [
    "<h3>Exercise 3a</h3>"
   ]
  },
  {
   "cell_type": "markdown",
   "id": "0a1f3850-fe36-4b18-b5f4-d3887c8a9341",
   "metadata": {},
   "source": [
    "<h4>Gegeven</h4>\n",
    "<p>De class Dobbelsteen in de module dobbelsteen.py</p>"
   ]
  },
  {
   "cell_type": "code",
   "execution_count": 89,
   "id": "619543c6-d4ee-4352-9a6b-dc77ddf660de",
   "metadata": {},
   "outputs": [],
   "source": [
    "d2 = Dobbelsteen()\n",
    "d3 = Dobbelsteen()\n",
    "histD2 = np.empty(1000)\n",
    "histD3 = np.empty(1000)"
   ]
  },
  {
   "cell_type": "markdown",
   "id": "2c2b9484-ff4a-4634-9e95-09bc9a808c51",
   "metadata": {
    "tags": []
   },
   "source": [
    "<h4>Gevraagd</h4>\n",
    "<p>\n",
    "    Voeg het volgende toe aan class Dobbelsteen:\n",
    "    <ol>\n",
    "        <li>list variabele <u>history</u> waaraan de uitkomst van iedere worp wordt toegevoegd</li>\n",
    "        <li>methode <u>getHistory(self)</u> die de waarde van variabele <u>history</u> geeft als <u>numpy-array</u></li>\n",
    "    <li>Schrijf in de cell hieronder een loop die 1000 keer zowel <i>d2</i> als <i>d3</i> werpt en sla de uitkomsten op in rescpectievelijk <i>histD2</i> en <i>histD3</i>. Maak daarbij gebruik van de methode <u>getHistory()</u> uit de vorige stap</li>\n",
    "    </ol>\n",
    " </p>  "
   ]
  },
  {
   "cell_type": "code",
   "execution_count": 90,
   "id": "70ff2f75-ffd2-425a-af9e-0ae7e169bd99",
   "metadata": {},
   "outputs": [],
   "source": [
    "# Oplossing\n",
    "\n",
    "for n in range(0,999):\n",
    "    d2.roll()   \n",
    "    d3.roll()\n",
    "\n",
    "# d2.oneThousandRolls()\n",
    "# d3.oneThousandRolls()"
   ]
  },
  {
   "cell_type": "code",
   "execution_count": 91,
   "id": "734ee035",
   "metadata": {},
   "outputs": [
    {
     "name": "stdout",
     "output_type": "stream",
     "text": [
      "1000\n",
      "1000\n",
      "<class 'list'>\n",
      "<class 'list'>\n"
     ]
    }
   ],
   "source": [
    "histD2 = d2.getHistory()\n",
    "histD3 = d3.getHistory()\n",
    "print(len(histD2))\n",
    "print(len(histD3))\n",
    "# print(type(histD2))\n",
    "print(type(histD2))\n",
    "print(type(histD3))"
   ]
  },
  {
   "cell_type": "markdown",
   "id": "c252c0ad-fcc1-4e19-8e5c-e5d210d603a9",
   "metadata": {},
   "source": [
    "<h3>Exercise 3b</h3>"
   ]
  },
  {
   "cell_type": "markdown",
   "id": "e954f144-4cdf-487f-8ac3-dd81b82abd54",
   "metadata": {},
   "source": [
    "<h4>Gevraagd</h4>\n",
    "<p>\n",
    "    <ol>\n",
    "        <li>Maak een <u>numpy array histD2D3</u> waarin de uitkomsten van <i>d2</i> en <i>d3</i> paarsgewijs bij elkaar zijn opgeteld.<br> <strong>Hint</strong>: <i>histD2D3 = np.add(histD2, histD3)</i></li> \n",
    "        <li>Print van de modus van zowel histD2 als histD3</li>\n",
    "        <li>Vul onderstaande code aan een <u>histogram van histD2D3</u>.\n",
    "    </ol>\n",
    " </p>  "
   ]
  },
  {
   "cell_type": "code",
   "execution_count": 92,
   "id": "d1794fe3",
   "metadata": {},
   "outputs": [
    {
     "data": {
      "text/plain": [
       "numpy.ndarray"
      ]
     },
     "execution_count": 92,
     "metadata": {},
     "output_type": "execute_result"
    }
   ],
   "source": [
    "histD2D3 = np.add(histD2,histD3)\n",
    "            \n",
    "type(histD2D3)\n",
    "# print(histD2D3)"
   ]
  },
  {
   "cell_type": "code",
   "execution_count": 93,
   "id": "2a008910-462a-4df2-bc93-baf00bc09690",
   "metadata": {},
   "outputs": [
    {
     "name": "stdout",
     "output_type": "stream",
     "text": [
      "[2, 4, 5]\n",
      "3\n"
     ]
    },
    {
     "data": {
      "image/png": "[encoded data removed]",
      "text/plain": [
       "<Figure size 640x480 with 1 Axes>"
      ]
     },
     "metadata": {},
     "output_type": "display_data"
    }
   ],
   "source": [
    "# Oplossing\n",
    "\n",
    "import numpy as np\n",
    "\n",
    "#create NumPy array of values with multiple modes\n",
    "x = np.array([2, 2, 2, 3, 4, 4, 4, 5, 5, 5, 7])\n",
    "\n",
    "#find unique values in array along with their counts\n",
    "vals, counts = np.unique(x, return_counts=True)\n",
    "\n",
    "#find mode\n",
    "mode_value = np.argwhere(counts == np.max(counts))\n",
    "\n",
    "#print list of modes\n",
    "print(vals[mode_value].flatten().tolist())\n",
    "\n",
    "[2, 4, 5]\n",
    "\n",
    "#find how often mode occurs\n",
    "print(np.max(counts))\n",
    "\n",
    "3\n",
    "\n",
    "# Rechtermarge van 2 toegevoegd\n",
    "uitkomsten = histD2D3\n",
    "bins = range(histD2D3.min(), histD2D3.max()+2)\n",
    "plt.hist(uitkomsten, bins) \n",
    "plt.title(\"Som van twee dobbelstenen\") \n",
    "plt.show()"
   ]
  }
 ],
 "metadata": {
  "kernelspec": {
   "display_name": "Python 3.10.7 64-bit",
   "language": "python",
   "name": "python3"
  },
  "language_info": {
   "codemirror_mode": {
    "name": "ipython",
    "version": 3
   },
   "file_extension": ".py",
   "mimetype": "text/x-python",
   "name": "python",
   "nbconvert_exporter": "python",
   "pygments_lexer": "ipython3",
   "version": "3.10.7"
  },
  "vscode": {
   "interpreter": {
    "hash": "5b93afe9c2e217d44e354b055ed180e932b72842f9b6422dadc1ad80da9caf67"
   }
  }
 },
 "nbformat": 4,
 "nbformat_minor": 5
}
