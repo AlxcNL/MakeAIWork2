{
 "cells": [
  {
   "cell_type": "code",
   "execution_count": 2,
   "metadata": {},
   "outputs": [
    {
     "name": "stdout",
     "output_type": "stream",
     "text": [
      "['e', 'd', 'c', 'b', 'a']\n"
     ]
    }
   ],
   "source": [
    "# Test cases\n",
    "\n",
    "# ==========\n",
    " \n",
    "# Inputs:\n",
    "# (string) s = “wrw blf hvv ozhg mrtsg’h vkrhlwv?”\n",
    "# Output:\n",
    "# (string) “did you see last night’s episode?”\n",
    " \n",
    "\n",
    "# Inputs:\n",
    "# (string) s = “Yvzs! I xzm’g yvorvev Lzmxv olhg srh qly zg gsv xlolmb!!”\n",
    "\n",
    "# Output:\n",
    "# (string) “Yeah! I can’t believe Lance lost his job at the colony!!”\n",
    "\n",
    "\n",
    "abc = ['a', 'b', 'c', 'd', 'e',]\n",
    "\n",
    "abc.reverse()\n",
    "\n",
    "print(abc)"
   ]
  }
 ],
 "metadata": {
  "kernelspec": {
   "display_name": "Python 3.10.7 ('env': venv)",
   "language": "python",
   "name": "python3"
  },
  "language_info": {
   "codemirror_mode": {
    "name": "ipython",
    "version": 3
   },
   "file_extension": ".py",
   "mimetype": "text/x-python",
   "name": "python",
   "nbconvert_exporter": "python",
   "pygments_lexer": "ipython3",
   "version": "3.10.7"
  },
  "orig_nbformat": 4,
  "vscode": {
   "interpreter": {
    "hash": "3806e804db5aa4a4c842d8541c0221916f65eb25aef94211593b7aec60c2bed4"
   }
  }
 },
 "nbformat": 4,
 "nbformat_minor": 2
}
