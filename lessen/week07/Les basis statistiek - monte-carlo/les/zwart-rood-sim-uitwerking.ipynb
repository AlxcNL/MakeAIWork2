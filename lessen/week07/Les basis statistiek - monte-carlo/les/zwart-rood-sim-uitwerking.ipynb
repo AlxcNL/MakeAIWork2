{
 "cells": [
  {
   "cell_type": "markdown",
   "id": "3f430533-2ac6-4557-a6ff-c7f96b3530da",
   "metadata": {
    "tags": []
   },
   "source": [
    "# Simulatie casino kansspel"
   ]
  },
  {
   "cell_type": "markdown",
   "id": "d9ee1a06-6308-4d02-973b-05337c7035c5",
   "metadata": {},
   "source": [
    "![roulette](roulette-red.jpg)"
   ]
  },
  {
   "cell_type": "markdown",
   "id": "48902cf8-23e7-4396-a74b-ce74a7bba3a7",
   "metadata": {},
   "source": [
    "## Spelregels"
   ]
  },
  {
   "cell_type": "markdown",
   "id": "44744256-08d4-4768-9306-a9fabe138687",
   "metadata": {},
   "source": [
    "1. Speler kan inzetten op **zwart** of **rood**\n",
    "2. Inzet is **\\\\$10**\n",
    "3. Kleur juist geraden is verdubbeling van de inzet dus **\\\\$20**\n",
    "4. Spel stopt als geld op is"
   ]
  },
  {
   "cell_type": "markdown",
   "id": "5c0f86a5-921e-4051-8e83-678337ec8bf3",
   "metadata": {
    "tags": []
   },
   "source": [
    "## Probleem doorgronden (analyse)"
   ]
  },
  {
   "cell_type": "markdown",
   "id": "71d71a50-2199-49bd-a3a0-27a6428ffc29",
   "metadata": {},
   "source": [
    "Doel: bepalen hoeveel ronden te spelen met **$40**\n",
    "\n",
    "1. Hoe bepalen we of het rood of zwart wordt?\n",
    "2. Hoe bepalen we wat de speler kiest?\n",
    "3. Hoe bepalen we wat we moeten uitkeren?\n",
    "4. Hoe houden we het geld van de speler bij?"
   ]
  },
  {
   "cell_type": "markdown",
   "id": "033e2436-801f-41e0-b696-320391f3a920",
   "metadata": {},
   "source": [
    "## Aanpak in grote lijnen (schetsen)"
   ]
  },
  {
   "cell_type": "code",
   "execution_count": 2,
   "id": "cf7a4597-0f93-4d77-b014-f1aceda7b826",
   "metadata": {},
   "outputs": [],
   "source": [
    "# Situation 1: how many rounds can player play with $40?\n",
    "\n",
    "# Player starts with $40\n",
    "\n",
    "# While playerBank > 0:\n",
    "    # 1. Place bet: choose color and subtract $10\n",
    "    # 2. Casino rolls dice to determine color outcome\n",
    "    # 3. Check if win or lose\n",
    "    # 4. Update bank\n",
    "    # 5. Update round counter\n",
    "\n",
    "# Print #rounds"
   ]
  },
  {
   "cell_type": "markdown",
   "id": "8d6169e5-ef62-420b-80bf-b80f82e0d487",
   "metadata": {
    "tags": []
   },
   "source": [
    "## Bepalen rood/zwart (implementatie)"
   ]
  },
  {
   "cell_type": "code",
   "execution_count": 3,
   "id": "ad70b343-461c-464e-9566-80ffc88eaf34",
   "metadata": {},
   "outputs": [],
   "source": [
    "# Only import random() function from random lib\n",
    "from random import random\n",
    "\n",
    "# Define labels for clarity\n",
    "Red = 0\n",
    "Black = 1\n",
    "\n",
    "def draw():\n",
    "    # Random() returns a uniform random number between 0 and 1\n",
    "    if random() < 0.5:\n",
    "        return Red\n",
    "    else:\n",
    "        return Black"
   ]
  },
  {
   "cell_type": "markdown",
   "id": "9fcca076-634a-4040-9a50-edd5c082b3b1",
   "metadata": {},
   "source": [
    "## Uitwerken comments (implementatie)"
   ]
  },
  {
   "cell_type": "code",
   "execution_count": 21,
   "id": "16216de5-600e-41ff-a199-7ab239a30e02",
   "metadata": {},
   "outputs": [
    {
     "name": "stdout",
     "output_type": "stream",
     "text": [
      "20\n"
     ]
    }
   ],
   "source": [
    "# Player starts with $40\n",
    "playerBank = 40\n",
    "\n",
    "# Rounds counter\n",
    "rounds = 0\n",
    "\n",
    "while playerBank > 0:\n",
    "    # 1. Place bet: choose color and subtract $10\n",
    "    bet = draw()\n",
    "    playerBank -= 10\n",
    "    # 2. Casino rolls dice to determine color outcome\n",
    "    color = draw()\n",
    "    # 3. Check if win or lose\n",
    "    if bet == color:\n",
    "        # 4. Update bank\n",
    "        playerBank += 20\n",
    "    # 5. Update round counter\n",
    "    rounds += 1\n",
    "\n",
    "print(rounds)"
   ]
  },
  {
   "cell_type": "markdown",
   "id": "11e78622-ffd5-4f0b-82b2-03260eab1b44",
   "metadata": {},
   "source": [
    "## Uitbreiding: hoe hoog is het bedrag maximaal?"
   ]
  },
  {
   "cell_type": "code",
   "execution_count": 5,
   "id": "1473a81e-5dc4-4e18-9d85-496ae14709ed",
   "metadata": {},
   "outputs": [],
   "source": [
    "# bankMax = 0\n",
    "\n",
    "    # if bankMax < playerBank:\n",
    "    #     bankMax = playerBank\n",
    "\n",
    "# print(bankMax)"
   ]
  }
 ],
 "metadata": {
  "kernelspec": {
   "display_name": "Python 3 (ipykernel)",
   "language": "python",
   "name": "python3"
  },
  "language_info": {
   "codemirror_mode": {
    "name": "ipython",
    "version": 3
   },
   "file_extension": ".py",
   "mimetype": "text/x-python",
   "name": "python",
   "nbconvert_exporter": "python",
   "pygments_lexer": "ipython3",
   "version": "3.10.6"
  },
  "toc-showcode": false,
  "toc-showmarkdowntxt": false
 },
 "nbformat": 4,
 "nbformat_minor": 5
}
