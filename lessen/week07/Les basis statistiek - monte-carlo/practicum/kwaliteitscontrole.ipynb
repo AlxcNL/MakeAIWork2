{
 "cells": [
  {
   "cell_type": "markdown",
   "id": "4bdbdeaa-79d8-416d-91b6-0566f3f2eaf4",
   "metadata": {
    "tags": []
   },
   "source": [
    "# Statistische kwaliteitscontrole"
   ]
  },
  {
   "cell_type": "markdown",
   "id": "64960ef1-4dce-4f48-b69f-fc48178fdc2c",
   "metadata": {},
   "source": [
    "![quality](quality.jpg)"
   ]
  },
  {
   "cell_type": "markdown",
   "id": "d1af3142-d8be-4a22-a21b-d058fae53330",
   "metadata": {},
   "source": [
    "## Situatie"
   ]
  },
  {
   "cell_type": "markdown",
   "id": "1a944e91-9e18-42cc-b419-7d3f2c7d655e",
   "metadata": {},
   "source": [
    "De firma Glow BV produceert lampen.\n",
    "\n",
    "- Bekend is dat **2%** van de productie defecten bevat\n",
    "- De dagproductie bestaat uit **75.000 lampen**"
   ]
  },
  {
   "cell_type": "markdown",
   "id": "3ad208d3-066d-4c7e-a4c7-8456202b308d",
   "metadata": {},
   "source": [
    "## Opdracht"
   ]
  },
  {
   "cell_type": "markdown",
   "id": "0415ea02-1298-480e-8668-1d789d4ae0ff",
   "metadata": {},
   "source": [
    "- Onderzoek hoeveel kapotte lampen je tegenkomt als je **25 lampen** uit de totale dagproductie inspecteert\n",
    "- Voer de inspectie **10 maal** uit\n",
    "- Maak een kort overzicht van je bevindingen (in Excel, met MatplotLib of met print-statements)"
   ]
  },
  {
   "cell_type": "markdown",
   "id": "861d9c5f-0d6d-4f1c-ba69-531d3c632cfe",
   "metadata": {},
   "source": [
    "## Analyse"
   ]
  },
  {
   "cell_type": "markdown",
   "id": "5c86ba6f-4f31-4907-a1af-d3135bb4ae26",
   "metadata": {},
   "source": [
    "- Bedenk hoe je de productie en de productiefout simuleert\n",
    "- Bedenk hoe het inspectieproces verloopt\n",
    "\n",
    "**Hint**: zitten er functies in de [random module](https://www.w3schools.com/python/module_random.asp) die passen bij deze opdracht?"
   ]
  },
  {
   "cell_type": "markdown",
   "id": "61577874-6ad0-4406-b49c-bfe83337d3d5",
   "metadata": {},
   "source": [
    "## Schetsen"
   ]
  },
  {
   "cell_type": "markdown",
   "id": "22732353-821f-48a0-a1f5-2b09408a3a6f",
   "metadata": {},
   "source": [
    "Werk op basis van je analyse stapsgewijs een oplossing uit in de vorm van comments, bijvoorbeeld:"
   ]
  },
  {
   "cell_type": "code",
   "execution_count": null,
   "id": "5b9ca7cf",
   "metadata": {},
   "outputs": [],
   "source": []
  },
  {
   "cell_type": "code",
   "execution_count": 1,
   "id": "397f1676-3852-41ea-b367-77520ef2e2c2",
   "metadata": {},
   "outputs": [],
   "source": [
    "# 1. Genereer een lijst met functionele lampen (hoeveel?) 75.000 - 1500 = 73.500\n",
    "#       funLamps = [73500 x f]\n",
    "# 2. Vul de lijst aan met defecte lampen (hoeveel?) 2% = 75.000 * 0.02 = 1500\n",
    "#       totalLamps = [73500 f + 1500 x d]\n",
    "# 3. Haal at random 25 lampen uit de samengestelde lijst - \n",
    "#          random importeren - random.randint()\n",
    "#       en stop deze in nieuwe testlijst\n",
    "#       testLamps = [25 random]\n",
    "# 4. ... Loop deze een voor een door ... of in een keer?    \n",
    "#       for d in testLamps:\n",
    "# 5. Als defect, dan score aanpassen. Anders niet\n",
    "#       Scorelijst voor defecte lampen aanmaken\n",
    "#       defScore += x d\n",
    "# 6. Geef het resultaat van het aantal defecte lampen en\n",
    "#          return defScore\n",
    "# 7. Leg de resultaten vast (Mpl?)\n",
    "# 8. Reken het gemiddelde uit (extra)\n"
   ]
  },
  {
   "cell_type": "markdown",
   "id": "37923139-5fbd-4575-ab9b-72ad309b50be",
   "metadata": {},
   "source": [
    "- Als bovenstaande niet lukt dan zal het implementeren ook niet lukken...\n",
    "- Vraag om hulp, maar oefen eerst met het uitwerken van een oplossing"
   ]
  },
  {
   "cell_type": "markdown",
   "id": "03440dea-9b95-4b92-9d89-8385dbad8ebe",
   "metadata": {},
   "source": [
    "## Implementeren"
   ]
  },
  {
   "cell_type": "markdown",
   "id": "41d28061-7872-4a91-8296-f1ef4302e695",
   "metadata": {},
   "source": [
    "- Werk de bovenstaande schets stap voor stap uit\n",
    "- Begin pas met implementeren als de schets klopt"
   ]
  },
  {
   "cell_type": "code",
   "execution_count": 59,
   "id": "ac97b428-2e7f-4088-a0c1-a83f619802e0",
   "metadata": {},
   "outputs": [],
   "source": [
    "# import random\n",
    "\n",
    "# # 1. Genereer een lijst met functionele lampen (hoeveel?) 75.000 - 1500 = 73.500\n",
    "\n",
    "# f = \"functional\"\n",
    "# d = \"defect\" \n",
    "\n",
    "# defScore = 0\n",
    "# totalDefScore = []\n",
    "# rounds = 25\n",
    "\n",
    "# funLamps = [f]*73500\n",
    "# defLamps = [d]*1500\n",
    "# totalLamps = funLamps + defLamps\n",
    "\n",
    "# # 2. Vul de lijst aan met defecte lampen (hoeveel?) 2% = 75.000 * 0.02 = 1500\n",
    "# #       totalLamps = [73500 f + 1500 x d]\n",
    "\n",
    "# def Rounds():\n",
    "#     for x in range(rounds):\n",
    "#         Test()\n",
    "    \n",
    "\n",
    "# def Test():\n",
    "# # 3. Haal at random 25 lampen uit de samengestelde lijst - en stop deze in nieuwe testlijst\n",
    "#     randomTest = random.sample(totalLamps, 25)\n",
    "#     # print(randomTest)\n",
    "# # 4. ... Loop deze een voor een door ... of in een keer?    \n",
    "# # 5. Als defect, dan score aanpassen. Anders niet\n",
    "# #       Scorelijst voor defecte lampen aanmaken\n",
    "\n",
    "#     defScore = randomTest.count(\"defect\")\n",
    "#     totalDefScore.append(defScore)\n",
    "    \n",
    "#     print(\"\\nTotal of defective lamps in current test batch: \", defScore)\n",
    "\n",
    "#     # for ele in totalLamps:\n",
    "#     #     if ele in randomTest:\n",
    "#     #         totalLamps.remove(ele)\n",
    "    \n",
    "#     for i in randomTest:\n",
    "#         del totalLamps[totalLamps.index(i)]\n",
    "        \n",
    "#     print(\"Remaining lamps from production: \", len(totalLamps))        \n",
    "# # print(totalLamps)\n",
    "        \n",
    "# # 6. Geef het resultaat van het aantal defecte lampen en\n",
    "# # return defScore\n",
    "    \n",
    "# # print(len(totalLamps))\n",
    " \n",
    "# # 7. Leg de resultaten vast (Mpl?)\n",
    "# Rounds()\n",
    "\n",
    "# print(\"\\n_______________________________________\\n\"\n",
    "#         \"Total of defective lamps in complete test:          \", sum(totalDefScore))\n",
    "# print(\"\\n=======================================\\n\"\n",
    "#         \"The percentage of defective lamps in complete test: \", sum(totalDefScore)/(rounds * 0.1), \"%\")             "
   ]
  },
  {
   "cell_type": "code",
   "execution_count": 60,
   "id": "f7520675",
   "metadata": {},
   "outputs": [
    {
     "name": "stdout",
     "output_type": "stream",
     "text": [
      "\n",
      "Total of defective lamps in current test batch:      0 pcs\n",
      "Remaining lamps from production:                     74975 pcs\n",
      "\n",
      "Total of defective lamps in current test batch:      0 pcs\n",
      "Remaining lamps from production:                     74950 pcs\n",
      "\n",
      "Total of defective lamps in current test batch:      0 pcs\n",
      "Remaining lamps from production:                     74925 pcs\n",
      "\n",
      "Total of defective lamps in current test batch:      0 pcs\n",
      "Remaining lamps from production:                     74900 pcs\n",
      "\n",
      "Total of defective lamps in current test batch:      3 pcs\n",
      "Remaining lamps from production:                     74875 pcs\n",
      "\n",
      "Total of defective lamps in current test batch:      1 pcs\n",
      "Remaining lamps from production:                     74850 pcs\n",
      "\n",
      "Total of defective lamps in current test batch:      0 pcs\n",
      "Remaining lamps from production:                     74825 pcs\n",
      "\n",
      "Total of defective lamps in current test batch:      0 pcs\n",
      "Remaining lamps from production:                     74800 pcs\n",
      "\n",
      "Total of defective lamps in current test batch:      0 pcs\n",
      "Remaining lamps from production:                     74775 pcs\n",
      "\n",
      "Total of defective lamps in current test batch:      0 pcs\n",
      "Remaining lamps from production:                     74750 pcs\n",
      "\n",
      "Total of defective lamps in current test batch:      1 pcs\n",
      "Remaining lamps from production:                     74725 pcs\n",
      "\n",
      "Total of defective lamps in current test batch:      1 pcs\n",
      "Remaining lamps from production:                     74700 pcs\n",
      "\n",
      "Total of defective lamps in current test batch:      0 pcs\n",
      "Remaining lamps from production:                     74675 pcs\n",
      "\n",
      "Total of defective lamps in current test batch:      0 pcs\n",
      "Remaining lamps from production:                     74650 pcs\n",
      "\n",
      "Total of defective lamps in current test batch:      0 pcs\n",
      "Remaining lamps from production:                     74625 pcs\n",
      "\n",
      "Total of defective lamps in current test batch:      1 pcs\n",
      "Remaining lamps from production:                     74600 pcs\n",
      "\n",
      "Total of defective lamps in current test batch:      0 pcs\n",
      "Remaining lamps from production:                     74575 pcs\n",
      "\n",
      "Total of defective lamps in current test batch:      0 pcs\n",
      "Remaining lamps from production:                     74550 pcs\n",
      "\n",
      "Total of defective lamps in current test batch:      0 pcs\n",
      "Remaining lamps from production:                     74525 pcs\n",
      "\n",
      "Total of defective lamps in current test batch:      0 pcs\n",
      "Remaining lamps from production:                     74500 pcs\n",
      "\n",
      "Total of defective lamps in current test batch:      0 pcs\n",
      "Remaining lamps from production:                     74475 pcs\n",
      "\n",
      "Total of defective lamps in current test batch:      2 pcs\n",
      "Remaining lamps from production:                     74450 pcs\n",
      "\n",
      "Total of defective lamps in current test batch:      0 pcs\n",
      "Remaining lamps from production:                     74425 pcs\n",
      "\n",
      "Total of defective lamps in current test batch:      0 pcs\n",
      "Remaining lamps from production:                     74400 pcs\n",
      "\n",
      "Total of defective lamps in current test batch:      1 pcs\n",
      "Remaining lamps from production:                     74375 pcs\n",
      "\n",
      "_______________________________________\n",
      "Total of defective lamps in complete test:           10 pcs\n",
      "\n",
      "=======================================\n",
      "The percentage of defective lamps in complete test:  4.0 %\n"
     ]
    }
   ],
   "source": [
    "\n",
    "import random\n",
    "\n",
    "f = 73500\n",
    "d = int(75000 * 0.02)\n",
    "\n",
    "defScore = 0\n",
    "totalDefScore = []\n",
    "rounds = 25\n",
    "\n",
    "funLamps = []\n",
    "defLamps = []\n",
    "\n",
    "for i in range(f):\n",
    "    funLamps.insert(f, \"functional\")\n",
    "\n",
    "for j in range(d):\n",
    "    defLamps.insert(d, \"defect\")\n",
    "\n",
    "totalLamps = funLamps + defLamps\n",
    "\n",
    "\n",
    "def Rounds():\n",
    "    for x in range(rounds):\n",
    "        Test()\n",
    "    \n",
    "\n",
    "def Test():\n",
    "\n",
    "    randomTest = random.sample(totalLamps, 25)\n",
    "\n",
    "    defScore = randomTest.count(\"defect\")\n",
    "    totalDefScore.append(defScore)\n",
    "    \n",
    "    print(\"\\nTotal of defective lamps in current test batch:     \", defScore, \"pcs\")\n",
    "    \n",
    "    for i in randomTest:\n",
    "        del totalLamps[totalLamps.index(i)]\n",
    "        \n",
    "    print(\"Remaining lamps from production:                    \", len(totalLamps), \"pcs\")        \n",
    "\n",
    "Rounds()\n",
    "\n",
    "\n",
    "print(\"\\n_______________________________________\\n\"\n",
    "        \"Total of defective lamps in complete test:          \", sum(totalDefScore), \"pcs\")\n",
    "print(\"\\n=======================================\\n\"\n",
    "        \"The percentage of defective lamps in complete test: \", sum(totalDefScore)/(rounds * 0.1), \"%\")  \n",
    "\n"
   ]
  },
  {
   "cell_type": "code",
   "execution_count": 64,
   "id": "5838567d",
   "metadata": {},
   "outputs": [
    {
     "data": {
      "image/png": "[encoded data removed]",
      "text/plain": [
       "<Figure size 640x480 with 1 Axes>"
      ]
     },
     "metadata": {},
     "output_type": "display_data"
    }
   ],
   "source": [
    "import matplotlib.pyplot as plt\n",
    "import numpy as np\n",
    "\n",
    "xpoints = np.array([1, 2, 3, 4, 5, 6, 7, 8, 9, 10, 11, 12, 13, 14, 15, 16, 17, 18, 19, 20, 21, 22, 23, 24, 25])\n",
    "ypoints = np.array([0, 0, 0, 0, 3, 1, 0, 0, 0, 0, 1, 1, 0, 0, 0, 1, 0, 0, 0, 0, 0, 2, 0, 0, 1])\n",
    "\n",
    "plt.plot(xpoints, ypoints)\n",
    "plt.show()"
   ]
  },
  {
   "cell_type": "code",
   "execution_count": 70,
   "id": "d273fc04",
   "metadata": {},
   "outputs": [
    {
     "ename": "ValueError",
     "evalue": "x and y must have same first dimension, but have shapes (25,) and (1,)",
     "output_type": "error",
     "traceback": [
      "\u001b[1;31m---------------------------------------------------------------------------\u001b[0m",
      "\u001b[1;31mValueError\u001b[0m                                Traceback (most recent call last)",
      "Cell \u001b[1;32mIn [70], line 14\u001b[0m\n\u001b[0;32m     10\u001b[0m \u001b[39m# val_acc = history.history['val_accuracy']\u001b[39;00m\n\u001b[0;32m     12\u001b[0m plt\u001b[39m.\u001b[39mfigure(figsize\u001b[39m=\u001b[39m(\u001b[39m10\u001b[39m, \u001b[39m5\u001b[39m))\n\u001b[1;32m---> 14\u001b[0m plt\u001b[39m.\u001b[39;49mplot(rounds_range, defect)\n\u001b[0;32m     15\u001b[0m \u001b[39m# plt.plot(rounds_range, val_acc)\u001b[39;00m\n\u001b[0;32m     16\u001b[0m \n\u001b[0;32m     17\u001b[0m \u001b[39m# plt.plot(xpoints, ypoints)\u001b[39;00m\n\u001b[0;32m     18\u001b[0m plt\u001b[39m.\u001b[39mtitle(\u001b[39m'\u001b[39m\u001b[39mNo. of defective lamps per test batch\u001b[39m\u001b[39m'\u001b[39m)\n",
      "File \u001b[1;32mc:\\Users\\El Director\\AppData\\Local\\Programs\\Python\\Python310\\lib\\site-packages\\matplotlib\\pyplot.py:2767\u001b[0m, in \u001b[0;36mplot\u001b[1;34m(scalex, scaley, data, *args, **kwargs)\u001b[0m\n\u001b[0;32m   2765\u001b[0m \u001b[39m@_copy_docstring_and_deprecators\u001b[39m(Axes\u001b[39m.\u001b[39mplot)\n\u001b[0;32m   2766\u001b[0m \u001b[39mdef\u001b[39;00m \u001b[39mplot\u001b[39m(\u001b[39m*\u001b[39margs, scalex\u001b[39m=\u001b[39m\u001b[39mTrue\u001b[39;00m, scaley\u001b[39m=\u001b[39m\u001b[39mTrue\u001b[39;00m, data\u001b[39m=\u001b[39m\u001b[39mNone\u001b[39;00m, \u001b[39m*\u001b[39m\u001b[39m*\u001b[39mkwargs):\n\u001b[1;32m-> 2767\u001b[0m     \u001b[39mreturn\u001b[39;00m gca()\u001b[39m.\u001b[39mplot(\n\u001b[0;32m   2768\u001b[0m         \u001b[39m*\u001b[39margs, scalex\u001b[39m=\u001b[39mscalex, scaley\u001b[39m=\u001b[39mscaley,\n\u001b[0;32m   2769\u001b[0m         \u001b[39m*\u001b[39m\u001b[39m*\u001b[39m({\u001b[39m\"\u001b[39m\u001b[39mdata\u001b[39m\u001b[39m\"\u001b[39m: data} \u001b[39mif\u001b[39;00m data \u001b[39mis\u001b[39;00m \u001b[39mnot\u001b[39;00m \u001b[39mNone\u001b[39;00m \u001b[39melse\u001b[39;00m {}), \u001b[39m*\u001b[39m\u001b[39m*\u001b[39mkwargs)\n",
      "File \u001b[1;32mc:\\Users\\El Director\\AppData\\Local\\Programs\\Python\\Python310\\lib\\site-packages\\matplotlib\\axes\\_axes.py:1635\u001b[0m, in \u001b[0;36mAxes.plot\u001b[1;34m(self, scalex, scaley, data, *args, **kwargs)\u001b[0m\n\u001b[0;32m   1393\u001b[0m \u001b[39m\"\"\"\u001b[39;00m\n\u001b[0;32m   1394\u001b[0m \u001b[39mPlot y versus x as lines and/or markers.\u001b[39;00m\n\u001b[0;32m   1395\u001b[0m \n\u001b[1;32m   (...)\u001b[0m\n\u001b[0;32m   1632\u001b[0m \u001b[39m(``'green'``) or hex strings (``'#008000'``).\u001b[39;00m\n\u001b[0;32m   1633\u001b[0m \u001b[39m\"\"\"\u001b[39;00m\n\u001b[0;32m   1634\u001b[0m kwargs \u001b[39m=\u001b[39m cbook\u001b[39m.\u001b[39mnormalize_kwargs(kwargs, mlines\u001b[39m.\u001b[39mLine2D)\n\u001b[1;32m-> 1635\u001b[0m lines \u001b[39m=\u001b[39m [\u001b[39m*\u001b[39m\u001b[39mself\u001b[39m\u001b[39m.\u001b[39m_get_lines(\u001b[39m*\u001b[39margs, data\u001b[39m=\u001b[39mdata, \u001b[39m*\u001b[39m\u001b[39m*\u001b[39mkwargs)]\n\u001b[0;32m   1636\u001b[0m \u001b[39mfor\u001b[39;00m line \u001b[39min\u001b[39;00m lines:\n\u001b[0;32m   1637\u001b[0m     \u001b[39mself\u001b[39m\u001b[39m.\u001b[39madd_line(line)\n",
      "File \u001b[1;32mc:\\Users\\El Director\\AppData\\Local\\Programs\\Python\\Python310\\lib\\site-packages\\matplotlib\\axes\\_base.py:312\u001b[0m, in \u001b[0;36m_process_plot_var_args.__call__\u001b[1;34m(self, data, *args, **kwargs)\u001b[0m\n\u001b[0;32m    310\u001b[0m     this \u001b[39m+\u001b[39m\u001b[39m=\u001b[39m args[\u001b[39m0\u001b[39m],\n\u001b[0;32m    311\u001b[0m     args \u001b[39m=\u001b[39m args[\u001b[39m1\u001b[39m:]\n\u001b[1;32m--> 312\u001b[0m \u001b[39myield from\u001b[39;00m \u001b[39mself\u001b[39;49m\u001b[39m.\u001b[39;49m_plot_args(this, kwargs)\n",
      "File \u001b[1;32mc:\\Users\\El Director\\AppData\\Local\\Programs\\Python\\Python310\\lib\\site-packages\\matplotlib\\axes\\_base.py:498\u001b[0m, in \u001b[0;36m_process_plot_var_args._plot_args\u001b[1;34m(self, tup, kwargs, return_kwargs)\u001b[0m\n\u001b[0;32m    495\u001b[0m     \u001b[39mself\u001b[39m\u001b[39m.\u001b[39maxes\u001b[39m.\u001b[39myaxis\u001b[39m.\u001b[39mupdate_units(y)\n\u001b[0;32m    497\u001b[0m \u001b[39mif\u001b[39;00m x\u001b[39m.\u001b[39mshape[\u001b[39m0\u001b[39m] \u001b[39m!=\u001b[39m y\u001b[39m.\u001b[39mshape[\u001b[39m0\u001b[39m]:\n\u001b[1;32m--> 498\u001b[0m     \u001b[39mraise\u001b[39;00m \u001b[39mValueError\u001b[39;00m(\u001b[39mf\u001b[39m\u001b[39m\"\u001b[39m\u001b[39mx and y must have same first dimension, but \u001b[39m\u001b[39m\"\u001b[39m\n\u001b[0;32m    499\u001b[0m                      \u001b[39mf\u001b[39m\u001b[39m\"\u001b[39m\u001b[39mhave shapes \u001b[39m\u001b[39m{\u001b[39;00mx\u001b[39m.\u001b[39mshape\u001b[39m}\u001b[39;00m\u001b[39m and \u001b[39m\u001b[39m{\u001b[39;00my\u001b[39m.\u001b[39mshape\u001b[39m}\u001b[39;00m\u001b[39m\"\u001b[39m)\n\u001b[0;32m    500\u001b[0m \u001b[39mif\u001b[39;00m x\u001b[39m.\u001b[39mndim \u001b[39m>\u001b[39m \u001b[39m2\u001b[39m \u001b[39mor\u001b[39;00m y\u001b[39m.\u001b[39mndim \u001b[39m>\u001b[39m \u001b[39m2\u001b[39m:\n\u001b[0;32m    501\u001b[0m     \u001b[39mraise\u001b[39;00m \u001b[39mValueError\u001b[39;00m(\u001b[39mf\u001b[39m\u001b[39m\"\u001b[39m\u001b[39mx and y can be no greater than 2D, but have \u001b[39m\u001b[39m\"\u001b[39m\n\u001b[0;32m    502\u001b[0m                      \u001b[39mf\u001b[39m\u001b[39m\"\u001b[39m\u001b[39mshapes \u001b[39m\u001b[39m{\u001b[39;00mx\u001b[39m.\u001b[39mshape\u001b[39m}\u001b[39;00m\u001b[39m and \u001b[39m\u001b[39m{\u001b[39;00my\u001b[39m.\u001b[39mshape\u001b[39m}\u001b[39;00m\u001b[39m\"\u001b[39m)\n",
      "\u001b[1;31mValueError\u001b[0m: x and y must have same first dimension, but have shapes (25,) and (1,)"
     ]
    },
    {
     "data": {
      "image/png": "[encoded data removed]",
      "text/plain": [
       "<Figure size 1000x500 with 1 Axes>"
      ]
     },
     "metadata": {},
     "output_type": "display_data"
    }
   ],
   "source": [
    "import matplotlib.pyplot as plt\n",
    "import numpy as np\n",
    "\n",
    "# xpoints = np.array([1, 2, 3, 4, 5, 6, 7, 8, 9, 10, 11, 12, 13, 14, 15, 16, 17, 18, 19, 20, 21, 22, 23, 24, 25])\n",
    "# ypoints = np.array([0, 0, 0, 0, 3, 1, 0, 0, 0, 0, 1, 1, 0, 0, 0, 1, 0, 0, 0, 0, 0, 2, 0, 0, 1])\n",
    "\n",
    "rounds_range = range(rounds)\n",
    "\n",
    "defect = int(defScore)\n",
    "# val_acc = history.history['val_accuracy']\n",
    "\n",
    "plt.figure(figsize=(10, 5))\n",
    "\n",
    "plt.plot(rounds_range, defect)\n",
    "\n",
    "# plt.plot(xpoints, ypoints)\n",
    "plt.title('No. of defective lamps per test batch')\n",
    "plt.show()\n"
   ]
  }
 ],
 "metadata": {
  "kernelspec": {
   "display_name": "Python 3.10.7 64-bit",
   "language": "python",
   "name": "python3"
  },
  "language_info": {
   "codemirror_mode": {
    "name": "ipython",
    "version": 3
   },
   "file_extension": ".py",
   "mimetype": "text/x-python",
   "name": "python",
   "nbconvert_exporter": "python",
   "pygments_lexer": "ipython3",
   "version": "3.10.7"
  },
  "toc-showcode": false,
  "toc-showmarkdowntxt": false,
  "vscode": {
   "interpreter": {
    "hash": "5b93afe9c2e217d44e354b055ed180e932b72842f9b6422dadc1ad80da9caf67"
   }
  }
 },
 "nbformat": 4,
 "nbformat_minor": 5
}
