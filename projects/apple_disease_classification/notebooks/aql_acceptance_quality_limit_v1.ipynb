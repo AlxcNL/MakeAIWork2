{
 "cells": [
  {
   "cell_type": "markdown",
   "metadata": {},
   "source": [
    "**<h4 style=\"color: green\"><font-size: 18px>\n",
    "AQL</h4>**<br>\n",
    "</font>\n",
    "<font-size: 14px>\n",
    "Acceptance Quality Limit\n",
    "</font>"
   ]
  },
  {
   "cell_type": "markdown",
   "metadata": {},
   "source": [
    "<strong>General Inspection Level: 1</strong>\n",
    "\n",
    "Lot size: een oogst batch bevat tussen de 5.000 en 10.000 appels \n",
    "\n",
    "\n",
    "<ol>\n",
    "    <li>\n",
    "        Klasse 1: AQL kleiner of gelijk aan 0.4\n",
    "    </li>\n",
    "    <li>\n",
    "        Klasse 2: AQL tussen 0.4 en 2.5\n",
    "    </li>\n",
    "    <li>\n",
    "        Klasse 3: AQL tussen 2.5 en 6.5\n",
    "    </li>\n",
    "    <li>\n",
    "        Afgekeurd: AQL groter dan 6.5\n",
    "    </li>    \n",
    "</ol>  "
   ]
  },
  {
   "cell_type": "markdown",
   "metadata": {},
   "source": [
    "Lot size 3201 / 10.000 > **General Inspection Level: J**"
   ]
  },
  {
   "cell_type": "markdown",
   "metadata": {},
   "source": [
    "**Acceptance Quality Limit - Normal Inspection > J**<br><br>\n",
    "Sample size = 80<br><br>\n",
    "Klasse 1: <= 0.4 &emsp; Ac 1  | Re 2<br>\n",
    "Klasse 2: <= 2.5 &emsp; Ac 5  | Re 6<br>\n",
    "Klasse 3: <= 6.5 &emsp; Ac 7  | Re 8<br>\n",
    "Klasse 4: >= 6.5 &emsp; Ac 10 | Re 11"
   ]
  },
  {
   "cell_type": "code",
   "execution_count": 15,
   "metadata": {},
   "outputs": [
    {
     "name": "stdout",
     "output_type": "stream",
     "text": [
      "The batch has been qualified as: Class 1\n",
      "\n",
      "The total batch of 80 apples consists of:\n",
      "Normal apples: 79\n",
      "Blotched apples: 0\n",
      "Rotten apples: 0\n",
      "Scabbed apples: 1\n",
      "\n"
     ]
    }
   ],
   "source": [
    "sampleSize = 80\n",
    "normalApple = 79\n",
    "blotchApple = 0\n",
    "rotApple = 0\n",
    "scabApple = 1\n",
    "\n",
    "\n",
    "# if qualityLabel <= 1:                                          # 80-1 = if normalApple >=79:\n",
    "#     print (f'The batch has been qualified as: Class 1')\n",
    "# elif qualityLabel <=5:\n",
    "#     print (f'The batch has been qualified as: Class 2')        # 80-5 = >=75 normalApple\n",
    "#      print (f'The batch has been qualified as: Class 2')\n",
    "# elif qualityLabel <=7:\n",
    "#     print (f'The batch has been qualified as: Class 3')         # 80-7 = >= 73 normalApple\n",
    "# else:\n",
    "#     print (f'The batch has been rejected')\n",
    " \n",
    "   \n",
    "if normalApple >=79:                                          \n",
    "    print (f'The batch has been qualified as: Class 1\\n')\n",
    "elif normalApple >=75:\n",
    "    print (f'The batch has been qualified as: Class 2\\n')\n",
    "elif normalApple >= 73:\n",
    "    print (f'The batch has been qualified as: Class 3\\n')\n",
    "else:\n",
    "    print (f'The batch has been rejected\\n')\n",
    "    \n",
    "print (f'The total batch of {sampleSize} apples consists of:\\n'\n",
    "       f'Normal apples: {normalApple}\\n'\n",
    "       f'Blotched apples: {blotchApple}\\n'\n",
    "       f'Rotten apples: {rotApple}\\nScabbed apples: {scabApple}\\n')    "
   ]
  }
 ],
 "metadata": {
  "kernelspec": {
   "display_name": "Python 3.10.7 ('env': venv)",
   "language": "python",
   "name": "python3"
  },
  "language_info": {
   "codemirror_mode": {
    "name": "ipython",
    "version": 3
   },
   "file_extension": ".py",
   "mimetype": "text/x-python",
   "name": "python",
   "nbconvert_exporter": "python",
   "pygments_lexer": "ipython3",
   "version": "3.10.7"
  },
  "orig_nbformat": 4,
  "vscode": {
   "interpreter": {
    "hash": "3806e804db5aa4a4c842d8541c0221916f65eb25aef94211593b7aec60c2bed4"
   }
  }
 },
 "nbformat": 4,
 "nbformat_minor": 2
}
