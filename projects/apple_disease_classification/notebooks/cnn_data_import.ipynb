{
 "cells": [
  {
   "cell_type": "code",
   "execution_count": 22,
   "metadata": {},
   "outputs": [],
   "source": [
    "from PIL import Image\n",
    "import io\n",
    "import matplotlib.pyplot as plt\n",
    "import matplotlib.image as mpimg\n",
    "import numpy as np\n",
    "import os\n",
    "from sklearn.model_selection import train_test_split\n",
    "import random\n",
    "import requests\n",
    "import scipy as sp\n",
    "import tensorflow as tf\n",
    "keras = tf.keras\n",
    "import zipfile"
   ]
  },
  {
   "cell_type": "code",
   "execution_count": 3,
   "metadata": {},
   "outputs": [],
   "source": [
    "blotchDirectory = 'C:/MakeAIWork2/projects/apple_disease_classification/data/Train/Blotch_Apple'\n",
    "edgeFiles = list()\n",
    " \n",
    "for filename in os.listdir(blotchDirectory):\n",
    "    imgFile = os.path.join(blotchDirectory, filename)\n",
    "    edgeFiles.append(imgFile)"
   ]
  },
  {
   "cell_type": "code",
   "execution_count": 2,
   "metadata": {},
   "outputs": [
    {
     "ename": "FileNotFoundError",
     "evalue": "[WinError 2] The system cannot find the file specified: 'C:/MakeAIWork2/projects/apple_disease_classification/data/Train/Blotch_Apple1.jpg' -> 'blotch_1.jpg'",
     "output_type": "error",
     "traceback": [
      "\u001b[1;31m---------------------------------------------------------------------------\u001b[0m",
      "\u001b[1;31mFileNotFoundError\u001b[0m                         Traceback (most recent call last)",
      "Cell \u001b[1;32mIn [2], line 13\u001b[0m\n\u001b[0;32m     10\u001b[0m     destination \u001b[39m=\u001b[39m \u001b[39m\"\u001b[39m\u001b[39mblotch_\u001b[39m\u001b[39m\"\u001b[39m \u001b[39m+\u001b[39m \u001b[39mstr\u001b[39m(count) \u001b[39m+\u001b[39m \u001b[39m\"\u001b[39m\u001b[39m.jpg\u001b[39m\u001b[39m\"\u001b[39m\n\u001b[0;32m     12\u001b[0m     \u001b[39m# Renaming the file\u001b[39;00m\n\u001b[1;32m---> 13\u001b[0m     os\u001b[39m.\u001b[39;49mrename(source, destination)\n\u001b[0;32m     14\u001b[0m     count \u001b[39m+\u001b[39m\u001b[39m=\u001b[39m \u001b[39m1\u001b[39m\n\u001b[0;32m     15\u001b[0m \u001b[39mprint\u001b[39m(\u001b[39m'\u001b[39m\u001b[39mAll Files Renamed\u001b[39m\u001b[39m'\u001b[39m)\n",
      "\u001b[1;31mFileNotFoundError\u001b[0m: [WinError 2] The system cannot find the file specified: 'C:/MakeAIWork2/projects/apple_disease_classification/data/Train/Blotch_Apple1.jpg' -> 'blotch_1.jpg'"
     ]
    }
   ],
   "source": [
    "blotchDirectory = 'C:/MakeAIWork2/projects/apple_disease_classification/data/Train/Blotch_Apple'\n",
    "count = 1\n",
    "# count increase by 1 in each iteration\n",
    "# iterate all files from a directory\n",
    "for file_name in os.listdir(blotchDirectory):\n",
    "    # Construct old file name\n",
    "    source = blotchDirectory + file_name\n",
    "\n",
    "    # Adding the count to the new file name and extension\n",
    "    destination = \"blotch_\" + str(count) + \".jpg\"\n",
    "\n",
    "    # Renaming the file\n",
    "    os.rename(source, destination)\n",
    "    count += 1\n",
    "print('All Files Renamed')\n",
    "\n",
    "print('New Names are')\n",
    "# verify the result\n",
    "res = os.listdir(blotchDirectory)\n",
    "print(res)"
   ]
  },
  {
   "cell_type": "code",
   "execution_count": 42,
   "metadata": {},
   "outputs": [
    {
     "name": "stdout",
     "output_type": "stream",
     "text": [
      "<class 'list'>\n",
      "C:/MakeAIWork2/projects/apple_disease_classification/data/Train/Blotch_Apple\\10.jpg\n"
     ]
    }
   ],
   "source": [
    "edgeFiles = [img for img in edgeFiles if \".jpg\" in img]\n",
    "print(type(edgeFiles))\n",
    "print(edgeFiles[0])"
   ]
  },
  {
   "cell_type": "code",
   "execution_count": 53,
   "metadata": {},
   "outputs": [
    {
     "ename": "AttributeError",
     "evalue": "'str' object has no attribute 'glob'",
     "output_type": "error",
     "traceback": [
      "\u001b[1;31m---------------------------------------------------------------------------\u001b[0m",
      "\u001b[1;31mAttributeError\u001b[0m                            Traceback (most recent call last)",
      "Cell \u001b[1;32mIn [53], line 3\u001b[0m\n\u001b[0;32m      1\u001b[0m src \u001b[39m=\u001b[39m \u001b[39m'\u001b[39m\u001b[39mC:/MakeAIWork2/projects/apple_disease_classification/data/Train/Blotch_Apple/\u001b[39m\u001b[39m'\u001b[39m \u001b[39m# Images source\u001b[39;00m\n\u001b[1;32m----> 3\u001b[0m image_count \u001b[39m=\u001b[39m \u001b[39mlen\u001b[39m(\u001b[39mlist\u001b[39m(src\u001b[39m.\u001b[39;49mglob(\u001b[39m'\u001b[39m\u001b[39m*/*.jpg\u001b[39m\u001b[39m'\u001b[39m)))\n\u001b[0;32m      4\u001b[0m \u001b[39mprint\u001b[39m(image_count)\n",
      "\u001b[1;31mAttributeError\u001b[0m: 'str' object has no attribute 'glob'"
     ]
    }
   ],
   "source": [
    "src = 'C:/MakeAIWork2/projects/apple_disease_classification/data/Train/Blotch_Apple/' # Images source\n",
    "\n",
    "image_count = len(list(src.glob('*/*.jpg')))\n",
    "print(image_count)\n",
    "\n",
    "# files = os.listdir(src) # Getting the files to copy\n",
    "\n",
    "# for idx, image_src in enumerate(files):\n",
    "\n",
    "#   image = Image.open(f'{src}{image_src}',\"r\")  \n",
    "  \n",
    "#   image.thumbnail((64, 64), Image.Resampling.LANCZOS)\n",
    "#   image.save(image.filename.replace(\".jpg\",\"_scaled.jpg\"))\n",
    "\n",
    "#   plt.subplot(20, 6, idx+1), plt.imshow(image, cmap='gray')\n",
    "\n",
    "# plt.show()"
   ]
  },
  {
   "cell_type": "code",
   "execution_count": 41,
   "metadata": {},
   "outputs": [],
   "source": [
    "# # Resize to 64x64\n",
    "# image = Image.open(f'{src}{image_src}',\"r\")\n",
    "# image.thumbnail((64, 64), Image.Resampling.LANCZOS)\n",
    "# image.save(image.filename.replace(\".jpg\",\"_scaled.jpg\"))\n",
    "\n",
    "# plt.imshow(image, cmap='gray')\n",
    "\n",
    "# plt.show()\n"
   ]
  },
  {
   "cell_type": "code",
   "execution_count": 28,
   "metadata": {},
   "outputs": [
    {
     "ename": "ValueError",
     "evalue": "could not broadcast input array from shape (575,767,3) into shape (64,64,3)",
     "output_type": "error",
     "traceback": [
      "\u001b[1;31m---------------------------------------------------------------------------\u001b[0m",
      "\u001b[1;31mValueError\u001b[0m                                Traceback (most recent call last)",
      "Cell \u001b[1;32mIn [28], line 6\u001b[0m\n\u001b[0;32m      3\u001b[0m i \u001b[39m=\u001b[39m \u001b[39m0\u001b[39m\n\u001b[0;32m      5\u001b[0m \u001b[39mfor\u001b[39;00m pic \u001b[39min\u001b[39;00m edgeFiles:\n\u001b[1;32m----> 6\u001b[0m   imageObjects[i] \u001b[39m=\u001b[39m np\u001b[39m.\u001b[39masarray(Image\u001b[39m.\u001b[39mopen(pic))\u001b[39m.\u001b[39mastype(\u001b[39m'\u001b[39m\u001b[39muint8\u001b[39m\u001b[39m'\u001b[39m)\u001b[39m/\u001b[39m\u001b[39m255\u001b[39m\n\u001b[0;32m      7\u001b[0m   i \u001b[39m+\u001b[39m\u001b[39m=\u001b[39m \u001b[39m1\u001b[39m\n",
      "\u001b[1;31mValueError\u001b[0m: could not broadcast input array from shape (575,767,3) into shape (64,64,3)"
     ]
    }
   ],
   "source": [
    "imageObjects = np.zeros([len(edgeFiles), 64, 64, 3])\n",
    "\n",
    "i = 0\n",
    "\n",
    "for pic in edgeFiles:\n",
    "  imageObjects[i] = np.asarray(Image.open(pic)).astype('uint8')/255\n",
    "  i += 1\n",
    "    \n",
    "# print(imageObjects[0])  "
   ]
  },
  {
   "cell_type": "code",
   "execution_count": null,
   "metadata": {},
   "outputs": [],
   "source": [
    "imageLabels = np.empty(len(edgeFiles), dtype = 'S20')\n",
    "\n",
    "i = 0\n",
    "\n",
    "for label in edgeFiles:\n",
    "    edgeFiles[i] = label.replace(\"\\\\\", \"/\").split('/')[2] # of (r\") 'r' maakt een raw-string, slash geen probleem meer \n",
    "    i += 1  \n",
    "\n",
    "labelNames, labelNumbers = np.unique(edgeFiles, return_inverse=True)\n",
    "labelDict = dict(zip(np.unique(labelNumbers), labelNames))\n",
    "# print(labelNames)\n",
    "# print(labelNumbers)\n",
    "\n",
    "np.array(np.unique(labelNumbers, return_counts=True)).T"
   ]
  },
  {
   "cell_type": "code",
   "execution_count": null,
   "metadata": {},
   "outputs": [],
   "source": [
    "def inspectData():\n",
    "    \n",
    "    plt.figure(figsize=(10,10))\n",
    "\n",
    "    for i in range(16):\n",
    "        plt.subplot(4, 4, i+1)\n",
    "        plt.xticks([])\n",
    "        plt.yticks([])\n",
    "        plt.grid(False)\n",
    "        randomImage = random.randint(1, 2500)\n",
    "        plt.imshow(imageObjects[randomImage])\n",
    "        plt.xlabel(labelNames[labelNumbers[randomImage]]) \n",
    "\n",
    "    plt.show()   "
   ]
  },
  {
   "cell_type": "code",
   "execution_count": null,
   "metadata": {},
   "outputs": [],
   "source": [
    "inspectData()"
   ]
  }
 ],
 "metadata": {
  "kernelspec": {
   "display_name": "Python 3.10.7 ('env': venv)",
   "language": "python",
   "name": "python3"
  },
  "language_info": {
   "codemirror_mode": {
    "name": "ipython",
    "version": 3
   },
   "file_extension": ".py",
   "mimetype": "text/x-python",
   "name": "python",
   "nbconvert_exporter": "python",
   "pygments_lexer": "ipython3",
   "version": "3.10.7"
  },
  "orig_nbformat": 4,
  "vscode": {
   "interpreter": {
    "hash": "3806e804db5aa4a4c842d8541c0221916f65eb25aef94211593b7aec60c2bed4"
   }
  }
 },
 "nbformat": 4,
 "nbformat_minor": 2
}
