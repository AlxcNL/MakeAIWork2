{
 "cells": [
  {
   "cell_type": "markdown",
   "metadata": {},
   "source": [
    "<h4><span style=\"color: green\"><strong>AQL</strong></span> = Acceptance Quality Limit</h4>\n"
   ]
  },
  {
   "cell_type": "markdown",
   "metadata": {},
   "source": [
    "<strong>Opdracht</strong><br>\n",
    "\"Schrijf ook een compact programma dat op basis van de validatie- en test-set van de appels een batch samenstelt, waarop je een inspectie kunt uitvoeren.<br> \n",
    "Genereer bijvoorbeeld een batch met een sample size van 80 appels, waarvan 72 gezond, 4 met blotch, 1 met rot en 3 met scab, en voer dit aan je afwijkingherkenner.<br>\n",
    "Hieruit moet dan het juiste kwaliteitslabel rollen.<br> \n",
    "\n",
    "<i>Statistieken</i><br> \n",
    "Naast een kwaliteitslabel toont de applicatie ook het aantal gezonde en zieke appels, de laatste uitgesplitst in de categorieën gevlekt (blotch), rot (rot) en schurft (scab).<br>\n",
    "Dit onderdeel is verder uit te breiden in overleg.\" "
   ]
  },
  {
   "cell_type": "markdown",
   "metadata": {},
   "source": [
    "<strong>Gegeven</strong><br>\n",
    "General Inspection Level: 1<br>\n",
    "Een oogst batch bevat tussen de 5.000 en 10.000 appels<br>\n",
    "\n",
    "AQL.pdf:<br>\n",
    "Lot size 3201 / 10.000 > General Inspection Level 1: J<br>\n",
    "Acceptance Quality Limit - Normal Inspection > J<br>\n",
    "Sample size = 80<br>\n",
    "\n",
    "<small>(Online AQL Calculator: Bij Klasse 1 wordt er altijd een minimum sample batch van 125 gevraagd.<br> \n",
    "Voor dit project zullen we uit praktische overwegingen voor alle klassen van 80 uitgaan.)</small><br>\n",
    "\n",
    "Dus:\n",
    "<ul>\n",
    "    <li>  \n",
    "        Klasse 1: AQL kleiner/gelijk aan 0.4&nbsp;&nbsp;|&nbsp;&nbsp;Accepted: <= 1&nbsp;&nbsp;|&nbsp;&nbsp;Rejected >= 2&nbsp;&nbsp;&nbsp;&nbsp;&nbsp;&nbsp;&nbsp;&nbsp;&nbsp;|&nbsp;&nbsp;<strong>>=79</strong>\n",
    "    </li>\n",
    "    <li>\n",
    "        Klasse 2: AQL tussen 0.4 en 2.5&nbsp;&nbsp;&nbsp;&nbsp;&nbsp;&nbsp;&nbsp;&nbsp;|&nbsp;&nbsp;Accepted: <= 5&nbsp;&nbsp;|&nbsp;&nbsp;Rejected >= 6&nbsp;&nbsp;&nbsp;&nbsp;&nbsp;&nbsp;&nbsp;&nbsp;&nbsp;|&nbsp;&nbsp;<strong>>=75</strong>\n",
    "    </li>\n",
    "    <li>\n",
    "        Klasse 3: AQL tussen 2.5 en 6.5&nbsp;&nbsp;&nbsp;&nbsp;&nbsp;&nbsp;&nbsp;&nbsp;|&nbsp;&nbsp;Accepted: <= 7&nbsp;&nbsp;|&nbsp;&nbsp;Rejected >= 8&nbsp;&nbsp;&nbsp;&nbsp;&nbsp;&nbsp;&nbsp;&nbsp;&nbsp;|&nbsp;&nbsp;<strong>>=73</strong>\n",
    "    </li>\n",
    "    <li>\n",
    "        Afgekeurd: AQL groter dan 6.5&nbsp;&nbsp;&nbsp;&nbsp;&nbsp;&nbsp;&nbsp;&nbsp;|&nbsp;&nbsp;Accepted: <= 10&nbsp;&nbsp;|&nbsp;&nbsp;Rejected >= 11&nbsp;&nbsp;&nbsp;&nbsp;&nbsp;&nbsp;|&nbsp;&nbsp;<strong>Rejected</strong>\n",
    "    </li>    \n",
    "</ul>  "
   ]
  },
  {
   "cell_type": "markdown",
   "metadata": {},
   "source": [
    "<strong>Plan van aanpak:</strong><br>\n",
    "Met if/else statements kunnen we op basis van aantallen van Accepted/Rejected een klasse toewijzen.<br>\n",
    "\n",
    "Deze statements doorlopen we met een for-loop.<br>\n",
    "Eerst dacht ik dit te doen door per label een lijst te vullen, maar met de .count() methode is dit ook makkelijk voor elkaar te krijgen.<br> \n",
    "De uitslag (klasse en aantallen per label) kunnen we printen.<br>\n",
    "\n",
    "De input is voor nu een handmatig samengestelde lijst van 80 (sample batch) appels.<br>\n",
    "Door deze aan te passen, met meer of minder zieke appels, kan er gecontroleerd worden of de klassen en aantallen juist weergegeven worden."
   ]
  },
  {
   "cell_type": "markdown",
   "metadata": {},
   "source": [
    "<strong>Eerste opzet</strong><br>\n",
    "Plan was hierbij om een functie te schrijven die het gegeven voorbeeld (80 appels, waarvan 72 gezond, 4 met blotch, 1 met rot en 3 met scab) te kunnen weergeven,<br>\n",
    "om vanuit daar een meer abstracte functie te schrijven die variabele input aankan."
   ]
  },
  {
   "cell_type": "code",
   "execution_count": 2,
   "metadata": {},
   "outputs": [
    {
     "name": "stdout",
     "output_type": "stream",
     "text": [
      "The batch has been qualified as: Class 3\n",
      "\n",
      "The total batch of 80 apples consists of:\n",
      "Healthy apples:   74\n",
      "Blotched apples:   4\n",
      "Rotten apples:     2\n",
      "Scabbed apples:    0\n",
      "\n"
     ]
    }
   ],
   "source": [
    "# if qualityLabel <= 1:                                          # 80-1 dus normalApple >= 79:\n",
    "#     print (f'The batch has been qualified as: Class 1')\n",
    "# elif qualityLabel <=5:\n",
    "#     print (f'The batch has been qualified as: Class 2')        # 80-5 dus >= 75 normalApple\n",
    "#      print (f'The batch has been qualified as: Class 2')\n",
    "# elif qualityLabel <=7:\n",
    "#     print (f'The batch has been qualified as: Class 3')         # 80-7 dus >= 73 normalApple\n",
    "# else:\n",
    "#     print (f'The batch has been rejected')\n",
    "\n",
    "def aqlTestScore(): \n",
    "    \n",
    "    sampleSize = 125 # batch_size > len(batch)\n",
    "    \n",
    "    # normalApple = 75    # \"n\"\n",
    "    # blotchApple = 2     # \"b\"\n",
    "    # rotApple = 0        # \"r\"\n",
    "    # scabApple = 3       # \"s\"\n",
    "    \n",
    "    # normalApple = \"h\"\n",
    "    # blotchApple = \"b\"\n",
    "    # rotApple = \"r\"\n",
    "    # scabApple = \"s\"\n",
    "    \n",
    "    sampleBatch = [\n",
    "                   \"h\",\"h\",\"h\",\"h\",\"h\",\"b\",\"b\",\"h\",\"h\",\"h\",\"h\",\"h\",\"h\",\"h\",\"h\",\"h\",\"r\",\"h\",\"h\",\"h\", \n",
    "                   \"h\",\"h\",\"h\",\"h\",\"b\",\"h\",\"h\",\"h\",\"h\",\"h\",\"h\",\"h\",\"r\",\"h\",\"h\",\"h\",\"h\",\"b\",\"h\",\"h\",\n",
    "                   \"h\",\"h\",\"h\",\"h\",\"h\",\"h\",\"h\",\"h\",\"h\",\"h\",\"h\",\"h\",\"h\",\"h\",\"h\",\"h\",\"h\",\"h\",\"h\",\"h\",\n",
    "                   \"h\",\"h\",\"h\",\"h\",\"h\",\"h\",\"h\",\"h\",\"h\",\"h\",\"h\",\"h\",\"h\",\"h\",\"h\",\"h\",\"h\",\"h\",\"h\",\"h\",\n",
    "                  ]\n",
    "    \n",
    "    # appleScore = sampleBatch.count(\"h\")\n",
    "    # print (appleScore)\n",
    "    # appleScore = []\n",
    "\n",
    "   \n",
    "    for apple in sampleBatch:\n",
    "\n",
    "        appleScore = sampleBatch.count(\"h\")\n",
    "    #     appleScore = 0\n",
    "    #     if apple != \"n\":\n",
    "    #         appleScore += 1\n",
    "    \n",
    "        blotchApple = sampleBatch.count(\"b\")\n",
    "        rotApple = sampleBatch.count(\"r\")\n",
    "        scabApple = sampleBatch.count(\"s\")  \n",
    "    \n",
    "    #    appleScore = sampleBatch.count(\"defect\")\n",
    "    #      totalAppleScore.append(appleScore)\n",
    "    #\n",
    "    #    for i in totalAppleScore:\n",
    "    #       del totalLamps[totalLamps.index(i)]\n",
    "    \n",
    "        # answer = {i: sampleBatch.count(i) for i in sampleBatch}\n",
    "        # appleScore = int(answer[\"h\"])\n",
    "        # return (answer[\"h\"] + answer[\"b\"] + answer[\"r\"] + answer[\"s\"])\n",
    "        \n",
    "        # print( answer[\"h\"] + answer[\"b\"] + answer[\"r\"] + answer[\"s\"] )\n",
    "       \n",
    "        if appleScore >=79:                                          \n",
    "            print (f'The batch has been qualified as: Class 1\\n')\n",
    "        elif appleScore >=75:\n",
    "            print (f'The batch has been qualified as: Class 2\\n')\n",
    "        elif appleScore >=73:\n",
    "            print (f'The batch has been qualified as: Class 3\\n')\n",
    "        else:\n",
    "            print (f'The batch has been rejected\\n')\n",
    "                \n",
    "        print (f'The total batch of {len(sampleBatch)} apples consists of:\\n'\n",
    "        f'Healthy apples:   {appleScore}\\n'\n",
    "        f'Blotched apples:   {blotchApple}\\n'\n",
    "        f'Rotten apples:     {rotApple}\\n'\n",
    "        f'Scabbed apples:    {scabApple}\\n')    \n",
    "        break    \n",
    "\n",
    "aqlTestScore()\n",
    "\n",
    "# Extra: count if normalApple + blotchApple + rotApple + scabApple == sampleSize "
   ]
  },
  {
   "cell_type": "markdown",
   "metadata": {},
   "source": [
    "Aangezien ik eerst dacht dat we vanuit het startpunt ('Normal inspection' of zelfs 'General Inspection Level: 1') zouden beginnen,<br>\n",
    "had ik het idee om dit met dictionaries danwel een Pandas DataFile op te gaan zetten, waar in met code gezocht kon worden (met key/value of iloc).<br>\n",
    "\n",
    "De insteek van de opdracht bleek wat simpeler te zijn, vandaar onderstaande dictionary ... en einde oefening voor dit specifieke stukje."
   ]
  },
  {
   "cell_type": "code",
   "execution_count": 7,
   "metadata": {},
   "outputs": [],
   "source": [
    "# dictionary {\"Letter code\": Sample size}? for batch size\n",
    "\n",
    "letterCode = [\"A\",\"B\",\"C\",\"D\",\"E\",\"F\",\"G\",\"H\",\"J\",\"K\",\"L\",\"M\",\"N\",\"P\",\"Q\",\"R\"]\n",
    "sampleSize = [2,3,5,8,13,20,32,50,80,125,200,315,500,800,1250,2000]\n",
    "\n",
    "normalInspectionCodes = dict(zip(letterCode, sampleSize))\n",
    " \n",
    "# print(\"Resultant dictionary is : \" + str(normalInspectionCodes))\n",
    "\n",
    "# select correct key (J)\n",
    "# print(\"Please give letter code to create the corresponding batch size:\")     \n",
    "# codeForBatchSize = input(\"Please give letter code to create the corresponding batch size:\")"
   ]
  },
  {
   "cell_type": "code",
   "execution_count": 8,
   "metadata": {},
   "outputs": [
    {
     "name": "stdout",
     "output_type": "stream",
     "text": [
      "The letter code is: J\n",
      "\n",
      "The batch size is 80 apples\n"
     ]
    }
   ],
   "source": [
    "# temp\n",
    "\n",
    "codeForBatchSize = \"J\"\n",
    "\n",
    "print(\"The letter code is: \" + codeForBatchSize)       \n",
    "\n",
    "print(f\"\\nThe batch size is\", normalInspectionCodes[codeForBatchSize], \"apples\")\n"
   ]
  },
  {
   "cell_type": "markdown",
   "metadata": {},
   "source": [
    "<strong>Tweede opzet</strong><br>\n",
    "Opgeschoonde versie van eerste opzet.<br>\n",
    "Door in sampleBatch te spelen met de waarden (\"h\",\"s\",\"b\",\"r\") kan de functie AQLTestScore getest worden. "
   ]
  },
  {
   "cell_type": "code",
   "execution_count": 11,
   "metadata": {},
   "outputs": [
    {
     "name": "stdout",
     "output_type": "stream",
     "text": [
      "The batch has been qualified as: Class 2\n",
      "\n",
      "The total batch of 80 apples consists of:\n",
      "Healthy apples:   75\n",
      "Blotched apples:   2\n",
      "Rotten apples:     2\n",
      "Scabbed apples:    1\n",
      "\n"
     ]
    }
   ],
   "source": [
    "sampleBatch = [\n",
    "                   \"h\",\"h\",\"h\",\"h\",\"h\",\"h\",\"b\",\"h\",\"h\",\"h\",\"h\",\"h\",\"h\",\"h\",\"h\",\"h\",\"r\",\"h\",\"h\",\"h\", \n",
    "                   \"h\",\"h\",\"h\",\"h\",\"h\",\"h\",\"h\",\"h\",\"h\",\"h\",\"h\",\"h\",\"r\",\"h\",\"h\",\"h\",\"h\",\"b\",\"h\",\"h\",\n",
    "                   \"h\",\"s\",\"h\",\"h\",\"h\",\"h\",\"h\",\"h\",\"h\",\"h\",\"h\",\"h\",\"h\",\"h\",\"h\",\"h\",\"h\",\"h\",\"h\",\"h\",\n",
    "                   \"h\",\"h\",\"h\",\"h\",\"h\",\"h\",\"h\",\"h\",\"h\",\"h\",\"h\",\"h\",\"h\",\"h\",\"h\",\"h\",\"h\",\"h\",\"h\",\"h\",\n",
    "                  ]\n",
    "    \n",
    "appleScore = sampleBatch.count(\"h\")\n",
    "blotchApple = sampleBatch.count(\"b\")\n",
    "rotApple = sampleBatch.count(\"r\")\n",
    "scabApple = sampleBatch.count(\"s\") \n",
    "\n",
    "def aqlTestScore(): \n",
    "        \n",
    "    for apple in sampleBatch:\n",
    "       \n",
    "        if appleScore >=79:                                          \n",
    "            print (f'The batch has been qualified as: Class 1\\n')\n",
    "        elif appleScore >=75:\n",
    "            print (f'The batch has been qualified as: Class 2\\n')\n",
    "        elif appleScore >=73:\n",
    "            print (f'The batch has been qualified as: Class 3\\n')\n",
    "        else:\n",
    "            print (f'The batch has been rejected\\n')\n",
    "                \n",
    "        print (f'The total batch of {len(sampleBatch)} apples consists of:\\n'\n",
    "        f'Healthy apples:   {appleScore}\\n'\n",
    "        f'Blotched apples:   {blotchApple}\\n'\n",
    "        f'Rotten apples:     {rotApple}\\n'\n",
    "        f'Scabbed apples:    {scabApple}\\n')    \n",
    "        break    \n",
    "\n",
    "aqlTestScore()\n"
   ]
  },
  {
   "cell_type": "markdown",
   "metadata": {},
   "source": [
    "Voor plot: https://www.geeksforgeeks.org/plot-a-pie-chart-in-python-using-matplotlib/<br>\n",
    "Met kleine aanpassingen om te kijken hoe het werkt en wat er mogelijk is met pie charts. "
   ]
  },
  {
   "cell_type": "code",
   "execution_count": 13,
   "metadata": {},
   "outputs": [
    {
     "data": {
      "image/png": "[encoded data removed]",
      "text/plain": [
       "<Figure size 1000x700 with 1 Axes>"
      ]
     },
     "metadata": {},
     "output_type": "display_data"
    }
   ],
   "source": [
    "import matplotlib.pyplot as plt\n",
    "import numpy as np\n",
    "\n",
    "# Creating dataset\n",
    "appleLabels = ['HEALTHY', 'BLOTCHED', 'ROTTEN', 'SCABBED']\n",
    " \n",
    "data = [appleScore, blotchApple, rotApple, scabApple]\n",
    "\n",
    "# Creating explode data\n",
    "explode = (0.0, 0.0, 0.0, 0.0) # not necessary\n",
    "\n",
    "# Creating color parameters\n",
    "colors = ( \"#1FA191\", \"#FACDB9\", \"#543F35\", \"#BF9D8E\")\n",
    "\n",
    "# Wedge properties\n",
    "wp = { 'linewidth' : 0.5, 'edgecolor' : \"white\" }\n",
    "\n",
    "# Creating autocpt arguments\n",
    "def func(pct, allvalues):\n",
    "\tabsolute = int(pct / 100.*np.sum(allvalues))\n",
    "\treturn \"{:.1f}%\\n\".format(pct, absolute)\n",
    "\n",
    "# Creating plot\n",
    "fig, ax = plt.subplots(figsize =(10, 7))\n",
    "wedges, texts, autotexts = ax.pie(data,\n",
    "\t\t\t\t\t\t\t\tautopct = lambda pct: func(pct, data),\n",
    "\t\t\t\t\t\t\t\texplode = explode,\n",
    "\t\t\t\t\t\t\t\tlabels = appleLabels,\n",
    "\t\t\t\t\t\t\t\tshadow = False,\n",
    "\t\t\t\t\t\t\t\tcolors = colors,\n",
    "\t\t\t\t\t\t\t\tstartangle = 15,\n",
    "\t\t\t\t\t\t\t\twedgeprops = wp,\n",
    "\t\t\t\t\t\t\t\ttextprops = dict(color =\"#115C53\"))\n",
    "\n",
    "# Adding legend\n",
    "ax.legend(wedges, appleLabels,\n",
    "\t\ttitle =\"Apples\",\n",
    "\t\tloc =\"upper left\",\n",
    "\t\tbbox_to_anchor =(1, 0, 0.5, 1))\n",
    "\n",
    "plt.setp(autotexts, size = 8, weight =\"bold\")\n",
    "ax.set_title(\"Customizing the APPLE pie chart\") # add Classification as title\n",
    "\n",
    "# show plot\n",
    "plt.show()"
   ]
  }
 ],
 "metadata": {
  "kernelspec": {
   "display_name": "Python 3.10.7 ('env': venv)",
   "language": "python",
   "name": "python3"
  },
  "language_info": {
   "codemirror_mode": {
    "name": "ipython",
    "version": 3
   },
   "file_extension": ".py",
   "mimetype": "text/x-python",
   "name": "python",
   "nbconvert_exporter": "python",
   "pygments_lexer": "ipython3",
   "version": "3.10.7"
  },
  "orig_nbformat": 4,
  "vscode": {
   "interpreter": {
    "hash": "3806e804db5aa4a4c842d8541c0221916f65eb25aef94211593b7aec60c2bed4"
   }
  }
 },
 "nbformat": 4,
 "nbformat_minor": 2
}
