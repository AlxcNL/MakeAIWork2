{
 "cells": [
  {
   "cell_type": "code",
   "execution_count": 1,
   "id": "739403a8-88fc-4654-a9f9-6fa23b3ec170",
   "metadata": {},
   "outputs": [],
   "source": [
    "# install pytorch lighting\n",
    "! pip install pytorch-lightning --quiet\n",
    "# install weights and biases\n",
    "!pip install wandb --quiet"
   ]
  },
  {
   "cell_type": "code",
   "execution_count": 2,
   "id": "58457fe2-5889-4f29-91ce-7fcf25e6452c",
   "metadata": {},
   "outputs": [],
   "source": []
  },
  {
   "cell_type": "code",
   "execution_count": 3,
   "id": "dc189be8-35b0-410c-b5cf-45d471314562",
   "metadata": {},
   "outputs": [],
   "source": []
  },
  {
   "cell_type": "code",
   "execution_count": 4,
   "id": "3f24c4e4-9aa2-4499-8f4e-fb1beea2f909",
   "metadata": {},
   "outputs": [],
   "source": []
  },
  {
   "cell_type": "code",
   "execution_count": 5,
   "id": "1b6a6617-7305-456f-9371-cda9e76bfd87",
   "metadata": {},
   "outputs": [],
   "source": []
  },
  {
   "cell_type": "code",
   "execution_count": 6,
   "id": "86bf35ae-e36d-44b6-b75f-6976052b04c4",
   "metadata": {},
   "outputs": [],
   "source": []
  },
  {
   "cell_type": "code",
   "execution_count": null,
   "id": "748db113-f0bc-4453-893a-95ecdb30faf3",
   "metadata": {},
   "outputs": [],
   "source": []
  }
 ],
 "metadata": {
  "kernelspec": {
   "display_name": "Python 3 (ipykernel)",
   "language": "python",
   "name": "python3"
  },
  "language_info": {
   "codemirror_mode": {
    "name": "ipython",
    "version": 3
   },
   "file_extension": ".py",
   "mimetype": "text/x-python",
   "name": "python",
   "nbconvert_exporter": "python",
   "pygments_lexer": "ipython3",
   "version": "3.10.9"
  }
 },
 "nbformat": 4,
 "nbformat_minor": 5
}
