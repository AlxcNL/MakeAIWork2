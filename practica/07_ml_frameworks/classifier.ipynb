{
 "cells": [
  {
   "cell_type": "code",
   "execution_count": 5,
   "id": "fa879da1-67fa-4285-8f0a-2a9e32976ee9",
   "metadata": {},
   "outputs": [],
   "source": [
    "import torch\n",
    "from torch import nn, optim"
   ]
  },
  {
   "cell_type": "code",
   "execution_count": 6,
   "id": "b976e42e-6f44-46d6-9603-ff13d0720125",
   "metadata": {},
   "outputs": [
    {
     "name": "stdout",
     "output_type": "stream",
     "text": [
      "Loss: 0.815\n",
      "Loss: 0.633\n",
      "Loss: 0.503\n",
      "Loss: 0.410\n",
      "Loss: 0.342\n",
      "Loss: 0.292\n",
      "Loss: 0.253\n",
      "Loss: 0.223\n",
      "Loss: 0.198\n",
      "Loss: 0.179\n",
      "Loss: 0.162\n",
      "Loss: 0.148\n",
      "Loss: 0.137\n",
      "Loss: 0.126\n",
      "Loss: 0.118\n",
      "Loss: 0.110\n",
      "Loss: 0.103\n",
      "Loss: 0.097\n",
      "Loss: 0.092\n",
      "Loss: 0.087\n"
     ]
    }
   ],
   "source": [
    "model = nn.Linear(20, 5) # predict logits for 5 classes\n",
    "x = torch.randn(1, 20)\n",
    "y = torch.tensor([[1., 0., 1., 0., 0.]]) # get classA and classC as active\n",
    "\n",
    "criterion = nn.BCEWithLogitsLoss()\n",
    "optimizer = optim.SGD(model.parameters(), lr=1e-1)\n",
    "\n",
    "for epoch in range(20):\n",
    "    optimizer.zero_grad()\n",
    "    output = model(x)\n",
    "    loss = criterion(output, y)\n",
    "    loss.backward()\n",
    "    optimizer.step()\n",
    "    print('Loss: {:.3f}'.format(loss.item()))"
   ]
  },
  {
   "cell_type": "code",
   "execution_count": 7,
   "id": "1532bb53-5cf9-43bb-9ea7-c1aa347818f2",
   "metadata": {},
   "outputs": [
    {
     "data": {
      "text/plain": [
       "tensor([ 2.4685, -2.4593,  2.3878, -2.4536, -2.4829], grad_fn=<AddBackward0>)"
      ]
     },
     "execution_count": 7,
     "metadata": {},
     "output_type": "execute_result"
    }
   ],
   "source": [
    "model(x[0])"
   ]
  },
  {
   "cell_type": "code",
   "execution_count": null,
   "id": "de9f1ef0-384e-4755-8ed0-deee57c8df9f",
   "metadata": {},
   "outputs": [],
   "source": []
  }
 ],
 "metadata": {
  "kernelspec": {
   "display_name": "Python 3 (ipykernel)",
   "language": "python",
   "name": "python3"
  },
  "language_info": {
   "codemirror_mode": {
    "name": "ipython",
    "version": 3
   },
   "file_extension": ".py",
   "mimetype": "text/x-python",
   "name": "python",
   "nbconvert_exporter": "python",
   "pygments_lexer": "ipython3",
   "version": "3.10.9"
  }
 },
 "nbformat": 4,
 "nbformat_minor": 5
}
